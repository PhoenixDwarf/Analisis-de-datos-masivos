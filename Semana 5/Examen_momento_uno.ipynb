{
 "cells": [
  {
   "cell_type": "markdown",
   "metadata": {
    "nbgrader": {
     "grade": false,
     "grade_id": "cell-c9bfcc10c56bc604",
     "locked": true,
     "schema_version": 3,
     "solution": false,
     "task": false
    }
   },
   "source": [
    "# Laboratorio 2"
   ]
  },
  {
   "cell_type": "markdown",
   "metadata": {
    "nbgrader": {
     "grade": false,
     "grade_id": "cell-c9bfcc10c56bc605",
     "locked": true,
     "schema_version": 3,
     "solution": false,
     "task": false
    }
   },
   "source": [
    "## Desarrollo de una herramienta analítica usando paquetes especializados para análisis de datos en Python"
   ]
  },
  {
   "cell_type": "markdown",
   "metadata": {
    "nbgrader": {
     "grade": false,
     "grade_id": "cell-c9bfcc10c56bc606",
     "locked": true,
     "schema_version": 3,
     "solution": false,
     "task": false
    }
   },
   "source": [
    "Para el desarrollo de esta actividad puedes utilizar cualquier librería externa. Te recomendamos leer por completo el enunciado del laboratorio antes de comenzar, de forma que tengas claro el propósito global de la actividad y puedas desarrollar tu solución apuntando a él desde el inicio."
   ]
  },
  {
   "cell_type": "markdown",
   "metadata": {
    "nbgrader": {
     "grade": false,
     "grade_id": "cell-c9bfcc10c56bc607",
     "locked": true,
     "schema_version": 3,
     "solution": false,
     "task": false
    }
   },
   "source": [
    "Al desarrollar este laboratorio pondrás a prueba tus habilidades para:\n",
    "\n",
    "1. Identificar y abordar preguntas de negocio y de *analytics*.\n",
    "2. Leer datos desde archivos y almacenarlos utilizando métodos de librerías especializadas.\n",
    "3. Explorar, modificar, limpiar y unir objetos tablas de datos.\n",
    "4. Implementar análisis combinando métricas descriptivas, visualización, filtrado y agrupación.\n",
    "5. Implementar análisis basado en modelos estadísticos o de *machine learning*."
   ]
  },
  {
   "cell_type": "markdown",
   "metadata": {
    "nbgrader": {
     "grade": false,
     "grade_id": "cell-cfa5e4dba79247b3",
     "locked": true,
     "schema_version": 3,
     "solution": false,
     "task": false
    }
   },
   "source": [
    "##  Contexto: desigualdad y factores de éxito en pruebas Saber 11 en Colombia"
   ]
  },
  {
   "cell_type": "markdown",
   "metadata": {
    "nbgrader": {
     "grade": false,
     "grade_id": "cell-cfa5e4dba79247b4",
     "locked": true,
     "schema_version": 3,
     "solution": false,
     "task": false
    }
   },
   "source": [
    "El ICFES es el Instituto Colombiano para el Fomento de la Educación Superior y está adscrito al Ministerio de Educación a nivel nacional. Como parte de sus funciones, el ICFES administra las pruebas Saber 11, las cuales evalúan a todos los estudiantes del país al final de su educación secundaria. El examen contiene preguntas que evalúan una variedad de áreas del conocimiento (ej., matemáticas, física, inglés, etc.) y se lleva a cabo dos veces al año, ajustándose a los diferentes calendarios académicos que siguen las instituciones educativas. Al momento de inscribirse a las pruebas, los estudiantes diligencian un formulario que recoge información sociodemográfica y relacionada con la institución a la que pertenecen. El fin es obtener información con respecto al desempeño de los estudiantes en la prueba y de sus características."
   ]
  },
  {
   "cell_type": "markdown",
   "metadata": {
    "nbgrader": {
     "grade": false,
     "grade_id": "cell-cfa5e4dba79247b6",
     "locked": true,
     "schema_version": 3,
     "solution": false,
     "task": false
    }
   },
   "source": [
    "Al igual que otros países de la región, Colombia tiene grandes retos en términos de desigualdad, particularmente en el contexto de educación primaria y secundaria. Por esta razón, para el Estado colombiano es muy valioso el amplio registro de datos que el ICFES genera alrededor de las pruebas Saber 11, pues con ellos se pueden generar análisis sobre la calidad de la educación en el país y eventualmente dar lugar a recomendaciones sobre políticas públicas. En particular, la problemática a abordar en este caso de estudio es la desigualdad y factores de éxito en las pruebas Saber 11. "
   ]
  },
  {
   "cell_type": "markdown",
   "metadata": {
    "nbgrader": {
     "grade": false,
     "grade_id": "cell-cfa5e4dba79247b7",
     "locked": true,
     "schema_version": 3,
     "solution": false,
     "task": false
    }
   },
   "source": [
    "Los objetivos de este caso de estudio son:\n",
    "\n",
    "* Entender el contenido de los archivos de datos proporcionados sobre las pruebas Saber 11, generar un reporte acerca de sus características principales y seleccionar las partes de dicho contenido que podrían ser relevantes para el análisis.\n",
    "\n",
    "\n",
    "* Identificar características de las variables de interés y relaciones entre ellas, por ejemplo, a través de agrupación, visualizaciones y estadísticas descriptivas.\n",
    "\n",
    "\n",
    "* Proponer un modelo que busque relacionar las variables de interés con el desempeño de los estudiantes y concluir acerca de los posibles hallazgos que se podrían reportar para el *stakeholder*.\n",
    "\n",
    "\n",
    "* Generar una herramienta que permita a un usuario interactuar con alguno de los parámetros del análisis realizado de forma relevante en el contexto del problema."
   ]
  },
  {
   "cell_type": "markdown",
   "metadata": {
    "nbgrader": {
     "grade": false,
     "grade_id": "cell-997648f928b84190",
     "locked": true,
     "schema_version": 3,
     "solution": false,
     "task": false
    }
   },
   "source": [
    "## Fase 1: obtener e inspeccionar archivos"
   ]
  },
  {
   "cell_type": "markdown",
   "metadata": {
    "nbgrader": {
     "grade": false,
     "grade_id": "cell-997648f928b84191",
     "locked": true,
     "schema_version": 3,
     "solution": false,
     "task": false
    }
   },
   "source": [
    "En esta fase te harás una idea general del contenido de los datos y generarás un reporte al respecto (ej., imprimiendo mensajes, presentando tablas de resumen, etc.). Además, seleccionarás un segmento de los datos que consideres útil para realizar tu análisis."
   ]
  },
  {
   "cell_type": "markdown",
   "metadata": {
    "nbgrader": {
     "grade": false,
     "grade_id": "cell-997648f928b84192",
     "locked": true,
     "schema_version": 3,
     "solution": false,
     "task": false
    }
   },
   "source": [
    "Pautas generales:\n",
    "\n",
    "* Utilizar una librería especializada para leer los archivos de datos y agregarlos según sea necesario (ej., utilizando los métodos `append` o `concat` si eliges cargarlos utilizando la librería `pandas`).\n",
    "* Inspeccionar el archivo a partir de sus encabezados, columnas y descripciones de las variables según su tipo (ej., numéricas, categóricas).\n",
    "* Declarar una estructura de datos (ej., una lista) para almacenar un subconjunto de variables que puedan ser relevantes para la problemática de interés."
   ]
  },
  {
   "cell_type": "markdown",
   "metadata": {
    "nbgrader": {
     "grade": false,
     "grade_id": "cell-997648f928b84193",
     "locked": true,
     "schema_version": 3,
     "solution": false,
     "task": false
    }
   },
   "source": [
    "Preguntas guía:\n",
    "\n",
    "* ¿Qué dimensiones tienen los datos?\n",
    "* ¿Con cuántos años y periodos de evaluación se cuenta?\n",
    "* ¿Cuáles variables pueden ser de interés para la problemática planteada?\n",
    "* ¿Qué porcentaje de datos faltantes o no válidos hay en las columnas de interés? ¿Qué planteas para manejarlos?"
   ]
  },
  {
   "cell_type": "code",
   "execution_count": 1,
   "metadata": {
    "nbgrader": {
     "grade": true,
     "grade_id": "cell-83d3b414ead0cca9",
     "locked": false,
     "points": 20,
     "schema_version": 3,
     "solution": true,
     "task": false
    }
   },
   "outputs": [],
   "source": [
    "# Implementa tu respuesta en esta celda\n",
    "import pandas as pd\n",
    "import numpy as np\n",
    "from sklearn.model_selection import train_test_split\n",
    "from sklearn.ensemble import RandomForestRegressor\n",
    "from sklearn.metrics import mean_squared_error, r2_score, accuracy_score\n",
    "import matplotlib.pyplot as plt\n",
    "import seaborn as sns\n",
    "\n",
    "datos_calendario_a = pd.read_csv(\"SaberProExcels/Saber_11__2020-1_20250301.csv\")\n",
    "datos_calendario_b = pd.read_csv(\"SaberProExcels/Saber_11__2020-2_20250301.csv\")\n"
   ]
  },
  {
   "cell_type": "code",
   "execution_count": 5,
   "metadata": {},
   "outputs": [
    {
     "name": "stdout",
     "output_type": "stream",
     "text": [
      "Dimensiones de los conjuntos de datos Saber 11° 2020-1 y 2020-2\n",
      "Años evaluados: 2020\n",
      "Periodos evaluados: 2, A y B\n",
      "\n",
      "Numero de filas y columnas por calendario:\n",
      "Calendario a: Filas: 15435. Columnas: 78.\n",
      "Calendario b: Filas: 504872. Columnas: 81.\n",
      "\n",
      "Ambos conjuntos de datos cuentan con bastantes columnas, de todas las que me interesan\n",
      "para la problematica planteada son las siguientes: \n",
      " \n",
      "['ESTU_GENERO' 'ESTU_PAIS_RESIDE' 'ESTU_TIENEETNIA' 'ESTU_DEPTO_RESIDE'\n",
      " 'FAMI_ESTRATOVIVIENDA' 'FAMI_EDUCACIONPADRE' 'FAMI_EDUCACIONMADRE'\n",
      " 'FAMI_TIENEINTERNET' 'FAMI_TIENECOMPUTADOR' 'COLE_GENERO'\n",
      " 'COLE_AREA_UBICACION' 'COLE_DEPTO_UBICACION' 'PUNT_GLOBAL']\n",
      "\n",
      "Numero de filas y columnas (depuradas) por calendario:\n",
      "Calendario a: Filas: 15435. Columnas: 13.\n",
      "Calendario b: Filas: 504872. Columnas: 13.\n",
      "\n",
      "Numero de filas y columnas resultantes de la union de ambos conjuntos de datos:\n",
      "Calendario ab: Filas: 520307. Columnas: 13.\n",
      "\n",
      "Numero de valores vacios por columna: \n",
      "ESTU_GENERO                 9\n",
      "ESTU_PAIS_RESIDE            0\n",
      "ESTU_TIENEETNIA          3757\n",
      "ESTU_DEPTO_RESIDE         766\n",
      "FAMI_ESTRATOVIVIENDA    18510\n",
      "FAMI_EDUCACIONPADRE     14539\n",
      "FAMI_EDUCACIONMADRE     15030\n",
      "FAMI_TIENEINTERNET      15194\n",
      "FAMI_TIENECOMPUTADOR    21616\n",
      "COLE_GENERO                 0\n",
      "COLE_AREA_UBICACION         0\n",
      "COLE_DEPTO_UBICACION        0\n",
      "PUNT_GLOBAL                 0\n",
      "dtype: int64\n",
      "\n",
      "Numero total de valores faltantes: 89421\n",
      "Numero total de valores validos: 6674570\n",
      "Procentaje de datos faltantes: 1.32 %\n",
      "\n",
      "Dado que tenemos un total de 520307 filas, y un total de 89421 valores \n",
      "faltantes, para este caso voy a eliminar las filas que cuenten con valores vacios\n",
      "ya que aun con esas filas removidas seguiremos teniendo un valor significativo de\n",
      "filas validas con las que poder trabajar. De esta manera tambien, el modelo tendra una mayor presición.\n",
      "\n",
      "Numero de filas y columnas resultantes de la depuración de valores faltantes:\n",
      "Filas: 488206. Columnas: 13.\n",
      "\n",
      "Este sera el dataframe con el que realizarmos el modelo y obtendremos las estadisticas.\n"
     ]
    }
   ],
   "source": [
    "print('Dimensiones de los conjuntos de datos Saber 11° 2020-1 y 2020-2')\n",
    "print('Años evaluados: 2020' + '\\n' + 'Periodos evaluados: 2, A y B' + '\\n')\n",
    "print('Numero de filas y columnas por calendario:')\n",
    "print(f'Calendario a: Filas: {datos_calendario_a.shape[0]}. Columnas: {datos_calendario_a.shape[1]}.')\n",
    "print(f'Calendario b: Filas: {datos_calendario_b.shape[0]}. Columnas: {datos_calendario_b.shape[1]}.')\n",
    "\n",
    "print('\\n' + 'Ambos conjuntos de datos cuentan con bastantes columnas, de todas las que me interesan' + '\\n' + '\\\n",
    "para la problematica planteada son las siguientes: \\n ')\n",
    "\n",
    "cols = [2,7,8,9,13,16,17,20,22,40,48,53,74]\n",
    "target_cols = np.array(datos_calendario_a.columns)[cols];\n",
    "print(target_cols)\n",
    "\n",
    "datos_depurados_calendario_a = datos_calendario_a[list(target_cols)]\n",
    "datos_depurados_calendario_b = datos_calendario_b[list(target_cols)]\n",
    "\n",
    "print('\\n' + 'Numero de filas y columnas (depuradas) por calendario:')\n",
    "print(f'Calendario a: Filas: {datos_depurados_calendario_a.shape[0]}. Columnas: {datos_depurados_calendario_a.shape[1]}.')\n",
    "print(f'Calendario b: Filas: {datos_depurados_calendario_b.shape[0]}. Columnas: {datos_depurados_calendario_b.shape[1]}.')\n",
    "\n",
    "datos_concatenados = pd.concat([datos_depurados_calendario_a, datos_depurados_calendario_b], axis=0)\n",
    "\n",
    "print('\\n' + 'Numero de filas y columnas resultantes de la union de ambos conjuntos de datos:')\n",
    "print(f'Calendario ab: Filas: {datos_concatenados.shape[0]}. Columnas: {datos_concatenados.shape[1]}.')\n",
    "\n",
    "print('\\n' + 'Numero de valores vacios por columna: ')\n",
    "print(datos_concatenados.isna().sum())\n",
    "\n",
    "num_total_nan = datos_concatenados.isna().sum().sum()\n",
    "num_total_notnull = datos_concatenados.notnull().sum().sum()\n",
    "print('\\n' + f'Numero total de valores faltantes: {num_total_nan}')\n",
    "print(f'Numero total de valores validos: {num_total_notnull}')\n",
    "\n",
    "print(f'Procentaje de datos faltantes: {round((num_total_nan * 100) / (num_total_nan + num_total_notnull), 2)} %')\n",
    "\n",
    "print('\\n' + f'Dado que tenemos un total de {datos_concatenados.shape[0]} filas, y un total de {datos_concatenados.isna().sum().sum()} valores \\n\\\n",
    "faltantes, para este caso voy a eliminar las filas que cuenten con valores vacios' + '\\n' +'ya que aun con esas filas removidas seguiremos teniendo \\\n",
    "un valor significativo de' + '\\n' + 'filas validas con las que poder trabajar. De esta manera tambien, el modelo tendra una mayor presición.')\n",
    "\n",
    "df = datos_concatenados.dropna()\n",
    "\n",
    "print('\\n' + 'Numero de filas y columnas resultantes de la depuración de valores faltantes:')\n",
    "print(f'Filas: {df.shape[0]}. Columnas: {df.shape[1]}.')\n",
    "\n",
    "print('\\n' + 'Este sera el dataframe con el que realizarmos el modelo y obtendremos las estadisticas.')"
   ]
  },
  {
   "cell_type": "markdown",
   "metadata": {
    "nbgrader": {
     "grade": false,
     "grade_id": "cell-015824b401dc270e",
     "locked": true,
     "schema_version": 3,
     "solution": false,
     "task": false
    }
   },
   "source": [
    "## Fase 2: identificar características y relaciones en las variables"
   ]
  },
  {
   "cell_type": "markdown",
   "metadata": {
    "nbgrader": {
     "grade": false,
     "grade_id": "cell-015824b401dc270e1",
     "locked": true,
     "schema_version": 3,
     "solution": false,
     "task": false
    }
   },
   "source": [
    "En esta fase realizarás análisis descriptivo para identificar posibles patrones o relaciones entre las variables de interés para la problemática planteada. Además, expondrás estadísticas descriptivas y visualizaciones para concluir al respecto de los patrones y las relaciones identificadas. Finalmente, elegirás el segmento de los datos sobre el cual profundizarás con tu análisis (este puede ser, o no, igual al seleccionado anteriormente)."
   ]
  },
  {
   "cell_type": "markdown",
   "metadata": {
    "nbgrader": {
     "grade": false,
     "grade_id": "cell-015824b401dc270e2",
     "locked": true,
     "schema_version": 3,
     "solution": false,
     "task": false
    }
   },
   "source": [
    "Pautas generales:\n",
    "\n",
    "* Calcular estadísticas descriptivas básicas (por lo menos, media/mediana y varianza/desviación) para cada variable sociodemográfica relevante en el contexto del problema.\n",
    "* Utilizar librerías especializadas (ej., `matplotlib`, `seaborn`, etc.) para inspeccionar visualmente variables de interés. Los métodos `distplot`, `pairplot`, `boxplot`, o `violinplot`, entre otros, pueden ser útiles.\n",
    "* Utilizar el método `groupby` de `pandas`, en conjunto con métodos de visualización, puede proveer evidencia del impacto de las variables sociodemográficas de interés sobre el desempeño de los estudiantes en la prueba."
   ]
  },
  {
   "cell_type": "markdown",
   "metadata": {
    "nbgrader": {
     "grade": false,
     "grade_id": "cell-015824b401dc270e3",
     "locked": true,
     "schema_version": 3,
     "solution": false,
     "task": false
    }
   },
   "source": [
    "Preguntas guía:\n",
    "\n",
    "* ¿Hay patrones de interés en las distribuciones de las variables o en las relaciones entre ellas?\n",
    "* ¿Consideras que existe algún impacto significativo de variables sociodemográficas en los puntajes globales o por área?\n",
    "* ¿Sobre cuáles variables harías un análisis más profundo?"
   ]
  },
  {
   "cell_type": "code",
   "execution_count": 6,
   "metadata": {
    "nbgrader": {
     "grade": true,
     "grade_id": "cell-e13f54c7af1552c9",
     "locked": false,
     "points": 20,
     "schema_version": 3,
     "solution": true,
     "task": false
    }
   },
   "outputs": [
    {
     "name": "stdout",
     "output_type": "stream",
     "text": [
      "Estadísticas descriptivas básicas:\n",
      "         PUNT_GLOBAL\n",
      "count  488206.000000\n",
      "mean      250.424243\n",
      "std        49.240142\n",
      "min         0.000000\n",
      "25%       213.000000\n",
      "50%       247.000000\n",
      "75%       284.000000\n",
      "max       500.000000\n",
      "\n",
      " Podemos observar, sobre todo en los diagramas de cajas y bigotes, que para las variables seleccionadas \n",
      " encontramos una cantidad enorme de valores atipicos que seguramente afectaran de manera significativa \n",
      " el rendimiento y presicion de nuestro modelo. \n",
      "\n",
      "Graficas de estadisticas relevantes: \n"
     ]
    },
    {
     "name": "stderr",
     "output_type": "stream",
     "text": [
      "C:\\Users\\Edwin\\AppData\\Local\\Temp\\ipykernel_8952\\1664993164.py:15: SettingWithCopyWarning: \n",
      "A value is trying to be set on a copy of a slice from a DataFrame.\n",
      "Try using .loc[row_indexer,col_indexer] = value instead\n",
      "\n",
      "See the caveats in the documentation: https://pandas.pydata.org/pandas-docs/stable/user_guide/indexing.html#returning-a-view-versus-a-copy\n",
      "  df[\"FAMI_ESTRATOVIVIENDA\"] = pd.Categorical(\n"
     ]
    },
    {
     "data": {
      "image/png": "[encoded data removed]",
      "text/plain": [
       "<Figure size 1200x1000 with 4 Axes>"
      ]
     },
     "metadata": {},
     "output_type": "display_data"
    },
    {
     "name": "stdout",
     "output_type": "stream",
     "text": [
      "En base a los diagramas anteriores, podemos afirmar lo siguiente: \n",
      " - La gran mayoria de participantes obtuvieron puntajes globales entre 200 y 300. \n",
      " - La mediana del puntaje global aumenta conforme aumenta el estrato social, por lo que existe \n",
      "   una relacion directamente proporcional entre el puntaje y el estrato. \n",
      " - Los participantes con acceso a internet obtienen mejores puntajes. \n",
      " - Los participantes que residen en areas urbanas obtienen mejores puntajes que aquellos que residen en areas rurales.\n"
     ]
    }
   ],
   "source": [
    "# Implementa tu respuesta en esta celda\n",
    "\n",
    "print('Estadísticas descriptivas básicas:')\n",
    "print(df.describe())\n",
    "\n",
    "print('\\n Podemos observar, sobre todo en los diagramas de cajas y bigotes, que para las variables seleccionadas \\\n",
    "\\n encontramos una cantidad enorme de valores atipicos que seguramente afectaran de manera significativa \\\n",
    "\\n el rendimiento y presicion de nuestro modelo. \\n')\n",
    "\n",
    "df_encoded = pd.get_dummies(df, drop_first=True)\n",
    "\n",
    "print('Graficas de estadisticas relevantes: ')\n",
    "fig, axes = plt.subplots(2, 2, figsize=(12, 10))\n",
    "sns.histplot(df[\"PUNT_GLOBAL\"], bins=30, kde=True, ax=axes[0, 0]).set_title(\"Distribución del puntaje global\")\n",
    "df[\"FAMI_ESTRATOVIVIENDA\"] = pd.Categorical(\n",
    "    df[\"FAMI_ESTRATOVIVIENDA\"], \n",
    "    categories=[\"Estrato 1\", \"Estrato 2\", \"Estrato 3\", \"Estrato 4\", \"Estrato 5\", \"Estrato 6\", \"Sin Estrato\"],\n",
    "    ordered=True\n",
    ")\n",
    "sns.boxplot(x=df[\"FAMI_ESTRATOVIVIENDA\"], y=df[\"PUNT_GLOBAL\"], ax=axes[0, 1]).set_title(\"Impacto del estrato en el puntaje global\")\n",
    "sns.boxplot(x=df[\"FAMI_TIENEINTERNET\"], y=df[\"PUNT_GLOBAL\"], ax=axes[1, 0]).set_title(\"Impacto de tener acceso a internet en el puntaje global\")\n",
    "sns.boxplot(x=df[\"COLE_AREA_UBICACION\"], y=df[\"PUNT_GLOBAL\"], ax=axes[1, 1]).set_title(\"Impacto del area poblacional en el puntaje global\")\n",
    "plt.tight_layout()\n",
    "plt.show()\n",
    "\n",
    "print('En base a los diagramas anteriores, podemos afirmar lo siguiente: \\\n",
    "\\n - La gran mayoria de participantes obtuvieron puntajes globales entre 200 y 300. \\\n",
    "\\n - La mediana del puntaje global aumenta conforme aumenta el estrato social, por lo que existe \\\n",
    "\\n   una relacion directamente proporcional entre el puntaje y el estrato. \\\n",
    "\\n - Los participantes con acceso a internet obtienen mejores puntajes. \\\n",
    "\\n - Los participantes que residen en areas urbanas obtienen mejores puntajes que aquellos que residen en areas rurales.')\n"
   ]
  },
  {
   "cell_type": "markdown",
   "metadata": {
    "nbgrader": {
     "grade": false,
     "grade_id": "cell-216057b23d3cc36d1",
     "locked": true,
     "schema_version": 3,
     "solution": false,
     "task": false
    }
   },
   "source": [
    "## Fase 3: abordar relación variables-desempeño a través de un modelo"
   ]
  },
  {
   "cell_type": "markdown",
   "metadata": {
    "nbgrader": {
     "grade": false,
     "grade_id": "cell-216057b23d3cc36d2",
     "locked": true,
     "schema_version": 3,
     "solution": false,
     "task": false
    }
   },
   "source": [
    "En esta fase propondrás, implementarás y reportarás el desempeño de uno o más modelos (al menos uno predictivo) que busquen explicar las relaciones entre factores sociodemográficos y el desempeño en la prueba. Además, concluirás con respecto a la validez de al menos un modelo y los posibles hallazgos que se podrían reportar para el *stakeholder*."
   ]
  },
  {
   "cell_type": "markdown",
   "metadata": {
    "nbgrader": {
     "grade": false,
     "grade_id": "cell-216057b23d3cc36d3",
     "locked": true,
     "schema_version": 3,
     "solution": false,
     "task": false
    }
   },
   "source": [
    "Pautas generales:\n",
    "\n",
    "* Seleccionar variables y proponer modelos acordes a estas y al contexto del problema.\n",
    "* Utilizar librerías especializadas (ej., `statsmodels`, `sklearn`, etc.) para indagar sobre los aspectos que contribuyen al éxito de los estudiantes. Los módulos correspondientes a regresión lineal y regresión logística pueden ser útiles.\n",
    "* Asegurar el cumplimiento de los supuestos y buenas prácticas de cada modelo.\n",
    "* Utilizar las métricas de evaluación de desempeño (disponibles en las librerías especilizadas), para concluir sobre la validez de los modelos propuestos."
   ]
  },
  {
   "cell_type": "markdown",
   "metadata": {
    "nbgrader": {
     "grade": false,
     "grade_id": "cell-216057b23d3cc36d4",
     "locked": true,
     "schema_version": 3,
     "solution": false,
     "task": false
    }
   },
   "source": [
    "Preguntas guía:\n",
    "\n",
    "* ¿Existe algún sub-conjunto de variables socio-demográficas que explique razonablemente bien el desempeño de los estudiantes en la prueba?"
   ]
  },
  {
   "cell_type": "code",
   "execution_count": null,
   "metadata": {},
   "outputs": [
    {
     "name": "stdout",
     "output_type": "stream",
     "text": [
      "{'COLOMBIA': 170, 'ESPAÑA': 724, 'ESTADOS UNIDOS': 840, 'PAÍSES BAJOS - HOLANDA': 528, 'ALEMANIA': 276, 'ARGENTINA': 32, 'BRASIL': 76, 'CHILE': 152, 'COREA DEL NORTE': 408, 'CUBA': 192, 'ECUADOR': 218, 'EL SALVADOR': 222, 'FRANCIA': 250, 'HAITI': 332, 'HONDURAS': 340, 'ITALIA': 380, 'MÉXICO': 484, 'NICARAGUA': 558, 'PORTUGAL': 620, 'VENEZUELA': 862, 'SUIZA': 756, 'GUATEMALA': 320, 'PERÚ': 604, 'COREA DEL SUR': 410, 'URUGUAY': 858, 'ESTADOS FEDERADOS DE MICRONESIA': 583, 'BOLIVIA': 68, 'PANAMÁ': 591, 'REPÚBLICA DOMINICANA': 214, 'WALLIS Y FUTUNA': 876, 'CABO VERDE': 132, 'VANUATU': 548, 'VIETNAM': 704, 'JAPÓN': 392, 'ARABIA SAUDITA': 682, 'RUSIA': 643, 'EGIPTO': 818, 'IRÁN': 364, 'REINO UNIDO': 826, 'COSTA RICA': 188, 'CHINA': 156, 'LITUANIA': 440, 'CURAZAO': 531, 'ARUBA': 533, 'PARAGUAY': 600, 'TURQUÍA': 792, 'OMÁN': 512}\n"
     ]
    },
    {
     "name": "stderr",
     "output_type": "stream",
     "text": [
      "C:\\Users\\Edwin\\AppData\\Local\\Temp\\ipykernel_8952\\3861581717.py:84: FutureWarning: Setting an item of incompatible dtype is deprecated and will raise in a future error of pandas. Value '[1 1 1 ... 2 2 3]' has dtype incompatible with category, please explicitly cast to a compatible dtype first.\n",
      "  dfCopy.loc[:, \"FAMI_ESTRATOVIVIENDA\"] = df[\"FAMI_ESTRATOVIVIENDA\"].astype(str).map(lambda dep : map_based_on_dict(dep, estrato_cods))\n"
     ]
    }
   ],
   "source": [
    "#Mejoras a la estructura de los datos\n",
    "\n",
    "dfCopy = df.copy()\n",
    "\n",
    "dept_cods = {\n",
    "    \"AMAZONAS\": 91, \"ANTIOQUIA\": 5, \"ARAUCA\": 81, \"ATLANTICO\": 8, \"BOGOTÁ\": 11, \"BOLIVAR\": 13,\n",
    "    \"BOYACA\": 15, \"CALDAS\": 17, \"CAQUETA\": 18, \"CASANARE\": 85, \"CAUCA\": 19, \"CESAR\": 20, \"CHOCO\": 27,\n",
    "    \"CORDOBA\": 23, \"CUNDINAMARCA\": 25, \"GUAINIA\": 94, \"GUAVIARE\": 95, \"HUILA\": 41, \"LA GUAJIRA\": 44,\n",
    "    \"MAGDALENA\": 47, \"META\": 50, \"NARIÑO\": 52, \"NORTE SANTANDER\": 54, \"PUTUMAYO\": 86, \"QUINDIO\": 63,\n",
    "    \"RISARALDA\": 66, \"SAN ANDRES\": 88, \"SANTANDER\": 68, \"SUCRE\": 70, \"TOLIMA\": 73, \"VALLE\": 76,\n",
    "    \"VAUPES\": 97, \"VICHADA\": 99, \"EXTRANJERO\": 99\n",
    "}\n",
    "\n",
    "country_numeric_codes = {\n",
    "    'COLOMBIA': 170,\n",
    "    'ESPAÑA': 724,\n",
    "    'ESTADOS UNIDOS': 840,\n",
    "    'PAÍSES BAJOS - HOLANDA': 528,\n",
    "    'ALEMANIA': 276,\n",
    "    'ARGENTINA': 32,\n",
    "    'BRASIL': 76,\n",
    "    'CHILE': 152,\n",
    "    'COREA DEL NORTE': 408,\n",
    "    'CUBA': 192,\n",
    "    'ECUADOR': 218,\n",
    "    'EL SALVADOR': 222,\n",
    "    'FRANCIA': 250,\n",
    "    'HAITI': 332,\n",
    "    'HONDURAS': 340,\n",
    "    'ITALIA': 380,\n",
    "    'MÉXICO': 484,\n",
    "    'NICARAGUA': 558,\n",
    "    'PORTUGAL': 620,\n",
    "    'VENEZUELA': 862,\n",
    "    'SUIZA': 756,\n",
    "    'GUATEMALA': 320,\n",
    "    'PERÚ': 604,\n",
    "    'COREA DEL SUR': 410,\n",
    "    'URUGUAY': 858,\n",
    "    'ESTADOS FEDERADOS DE MICRONESIA': 583,\n",
    "    'BOLIVIA': 68,\n",
    "    'PANAMÁ': 591,\n",
    "    'REPÚBLICA DOMINICANA': 214,\n",
    "    'WALLIS Y FUTUNA': 876,\n",
    "    'CABO VERDE': 132,\n",
    "    'VANUATU': 548,\n",
    "    'VIETNAM': 704,\n",
    "    'JAPÓN': 392,\n",
    "    'ARABIA SAUDITA': 682,\n",
    "    'RUSIA': 643,\n",
    "    'EGIPTO': 818,\n",
    "    'IRÁN': 364,\n",
    "    'REINO UNIDO': 826,\n",
    "    'COSTA RICA': 188,\n",
    "    'CHINA': 156,\n",
    "    'LITUANIA': 440,\n",
    "    'CURAZAO': 531,\n",
    "    'ARUBA': 533,\n",
    "    'PARAGUAY': 600,\n",
    "    'TURQUÍA': 792,\n",
    "    'OMÁN': 512\n",
    "}\n",
    "\n",
    "print(country_numeric_codes)\n",
    "\n",
    "\n",
    "estrato_cods = { \"Sin Estrato\": 7, \"Estrato 1\": 1, \"Estrato 2\": 2, \"Estrato 3\": 3, \"Estrato 4\": 4, \"Estrato 5\": 5, \"Estrato 6\": 6 }\n",
    "\n",
    "genero_col_cods = { \"MIXTO\": 1, \"FEMENINO\": 2, \"MASCULINO\": 3 }\n",
    "\n",
    "def map_based_on_dict(text, dict):\n",
    "    x = dict.get(text)\n",
    "    if x: return x\n",
    "    else: return text\n",
    "\n",
    "def map_sino(texto):\n",
    "    if texto == \"Si\": return 1\n",
    "    else: return 0\n",
    "\n",
    "dfCopy.loc[:, \"ESTU_PAIS_RESIDE\"] = df[\"ESTU_PAIS_RESIDE\"].astype(str).map(lambda dep : map_based_on_dict(dep, country_numeric_codes))\n",
    "dfCopy.loc[:, \"COLE_GENERO\"] = df[\"COLE_GENERO\"].astype(str).map(lambda dep : map_based_on_dict(dep, genero_col_cods))\n",
    "dfCopy.loc[:, \"ESTU_DEPTO_RESIDE\"] = df[\"ESTU_DEPTO_RESIDE\"].astype(str).map(lambda dep : map_based_on_dict(dep, dept_cods))\n",
    "dfCopy.loc[:, \"COLE_DEPTO_UBICACION\"] = df[\"COLE_DEPTO_UBICACION\"].astype(str).map(lambda dep : map_based_on_dict(dep, dept_cods))\n",
    "dfCopy.loc[:, \"FAMI_ESTRATOVIVIENDA\"] = df[\"FAMI_ESTRATOVIVIENDA\"].astype(str).map(lambda dep : map_based_on_dict(dep, estrato_cods))\n",
    "dfCopy.loc[:, \"FAMI_EDUCACIONPADRE\"] = df[\"FAMI_EDUCACIONPADRE\"].astype(str).map(lambda dep : dep.split()[0])\n",
    "dfCopy.loc[:, \"FAMI_EDUCACIONMADRE\"] = df[\"FAMI_EDUCACIONMADRE\"].astype(str).map(lambda dep : dep.split()[0])\n",
    "\n",
    "edu_cods = { \"Primaria\": 7, \"Secundaria\": 1, \"Técnica\": 2, \"Educación\": 3, \"Ninguno\": 4, \"Postgrado\": 5, \"No\": 6 }\n",
    "\n",
    "dfCopy.loc[:, \"FAMI_EDUCACIONPADRE\"] = dfCopy[\"FAMI_EDUCACIONPADRE\"].astype(str).map(lambda dep : map_based_on_dict(dep, edu_cods))\n",
    "dfCopy.loc[:, \"FAMI_EDUCACIONMADRE\"] = dfCopy[\"FAMI_EDUCACIONMADRE\"].astype(str).map(lambda dep : map_based_on_dict(dep, edu_cods))\n",
    "\n",
    "dfCopy.loc[:, \"FAMI_TIENEINTERNET\"] = df[\"FAMI_TIENEINTERNET\"].astype(str).map(lambda dep : int(dep == \"Si\"))\n",
    "dfCopy.loc[:, \"ESTU_GENERO\"] = df[\"ESTU_GENERO\"].astype(str).map(lambda dep : int(dep == 'M'))\n",
    "dfCopy.loc[:, \"FAMI_TIENECOMPUTADOR\"] = df[\"FAMI_TIENECOMPUTADOR\"].astype(str).map(lambda dep : int(dep == \"Si\"))\n",
    "dfCopy.loc[:, \"COLE_AREA_UBICACION\"] = df[\"COLE_AREA_UBICACION\"].astype(str).map(lambda dep : int(dep == \"URBANO\"))\n",
    "dfCopy.loc[:, \"ESTU_TIENEETNIA\"] = df[\"ESTU_TIENEETNIA\"].astype(str).map(lambda dep : int(dep == \"Si\"))\n",
    "\n",
    "\n",
    "#dfCopy.to_excel(\"output.xlsx\")"
   ]
  },
  {
   "cell_type": "code",
   "execution_count": 52,
   "metadata": {},
   "outputs": [
    {
     "name": "stdout",
     "output_type": "stream",
     "text": [
      "[0 1]\n",
      "[170 724 840 528 276 32 76 152 408 192 218 222 250 332 340 380 484 558 620\n",
      " 862 756 320 604 410 858 583 68 591 214 876 132 548 704 392 682 643 818\n",
      " 364 826 188 156 440 531 533 600 792 512]\n",
      "[0 1]\n",
      "[20 19 86 66 5 11 50 63 76 25 8 52 17 15 18 68 13 85 54 41 23 81 73 47 94\n",
      " 44 27 70 95 99 91 88 97]\n",
      "[1 6 5 2 4 3 7]\n",
      "[7 1 2 3 4 5 6]\n",
      "[7 1 3 5 4 2 6]\n",
      "[0 1]\n",
      "[0 1]\n",
      "[1 2 3]\n",
      "[1 0]\n",
      "[20 19 86 66 5 11 50 63 76 25 8 52 17 68 15 18 13 54 41 23 73 85 47 81 44\n",
      " 70 95 27 99 91 88 97 94]\n"
     ]
    }
   ],
   "source": [
    "print(dfCopy['ESTU_GENERO'].unique())\n",
    "print(dfCopy['ESTU_PAIS_RESIDE'].unique())\n",
    "print(dfCopy['ESTU_TIENEETNIA'].unique())\n",
    "print(dfCopy['ESTU_DEPTO_RESIDE'].unique())\n",
    "print(dfCopy['FAMI_ESTRATOVIVIENDA'].unique())\n",
    "print(dfCopy['FAMI_EDUCACIONPADRE'].unique())\n",
    "print(dfCopy['FAMI_EDUCACIONMADRE'].unique())\n",
    "print(dfCopy['FAMI_TIENEINTERNET'].unique())\n",
    "print(dfCopy['FAMI_TIENECOMPUTADOR'].unique())\n",
    "print(dfCopy['COLE_GENERO'].unique())\n",
    "print(dfCopy['COLE_AREA_UBICACION'].unique())\n",
    "print(dfCopy['COLE_DEPTO_UBICACION'].unique())"
   ]
  },
  {
   "cell_type": "code",
   "execution_count": 53,
   "metadata": {
    "collapsed": true,
    "nbgrader": {
     "grade": true,
     "grade_id": "cell-94b22dd2cafa56a2",
     "locked": false,
     "points": 30,
     "schema_version": 3,
     "solution": true,
     "task": false
    }
   },
   "outputs": [
    {
     "name": "stdout",
     "output_type": "stream",
     "text": [
      "MSE: 1807.42223894283\n",
      "RMSE: 42.51378880954778\n",
      "R2 Score: 0.25069529470073004\n"
     ]
    }
   ],
   "source": [
    "# Implementa tu respuesta en esta celda\n",
    "\n",
    "#Separamos el puntaje global del resto de columnas, para poder comparar el mismo con los valores de las demas variables/columnas\n",
    "X = dfCopy.drop(columns=[\"PUNT_GLOBAL\"])\n",
    "y = dfCopy[\"PUNT_GLOBAL\"]\n",
    "X = pd.get_dummies(X, drop_first=True)\n",
    "\n",
    "# Dividimos los datos en datos de entrenamiento y datos de prueba, asignamos un tamaño de prueba del 20% para evitar sobre entrenamiento del modelo.\n",
    "# Pasamos 42 al argumento random_state para obtener resultados fijos y evitar que el resultado del entrenamiento varie con distintas ejecuciones.\n",
    "# https://platzi.com/discusiones/1457-machine-learning-2018/49793-porque-igualamos-a-42-el-random_state-al-dividir-los-datos/ \n",
    "X_train, X_test, y_train, y_test = train_test_split(X, y, test_size=0.2, random_state=42)\n",
    "\n",
    "# Instanciamos el modelo y posteriormente lo entrenamos\n",
    "# Esto tomara alrededor de 8 minutos\n",
    "model = RandomForestRegressor(random_state=42)\n",
    "model.fit(X_train, y_train)\n",
    "\n",
    "# Evaluamos el modelo realizando una prediccion\n",
    "y_pred = model.predict(X_test)\n",
    "print(\"MSE:\", mean_squared_error(y_test, y_pred))\n",
    "print(\"RMSE:\", np.sqrt(mean_squared_error(y_test, y_pred)))\n",
    "print(\"R2 Score:\", r2_score(y_test, y_pred))\n",
    "\n"
   ]
  },
  {
   "cell_type": "markdown",
   "metadata": {},
   "source": [
    "Run v1: \n",
    "* MSE: 1868.9260693557778\n",
    "* RMSE: 43.23107758726097\n",
    "* R2 Score: 0.225197594977114\n",
    "\n",
    "Run v2 (with numeric changes)\n",
    "* MSE: 1807.42223894283\n",
    "* RMSE: 42.51378880954778\n",
    "* R2 Score: 0.25069529470073004"
   ]
  },
  {
   "cell_type": "markdown",
   "metadata": {
    "nbgrader": {
     "grade": false,
     "grade_id": "cell-48c276616fb862c5",
     "locked": true,
     "schema_version": 3,
     "solution": false,
     "task": false
    }
   },
   "source": [
    "## Fase 4"
   ]
  },
  {
   "cell_type": "markdown",
   "metadata": {
    "nbgrader": {
     "grade": false,
     "grade_id": "cell-eb30850cd7109d78",
     "locked": true,
     "schema_version": 3,
     "solution": false,
     "task": false
    }
   },
   "source": [
    "Deberás elegir y realizar una de las dos alternativas que se encuentran a continuación."
   ]
  },
  {
   "cell_type": "markdown",
   "metadata": {
    "nbgrader": {
     "grade": false,
     "grade_id": "cell-378e2b071d246af8",
     "locked": true,
     "schema_version": 3,
     "solution": false,
     "task": false
    }
   },
   "source": [
    "### Alternativa 1: desarrollar una herramienta interactiva de análisis"
   ]
  },
  {
   "cell_type": "markdown",
   "metadata": {
    "nbgrader": {
     "grade": false,
     "grade_id": "cell-378e2b071d246af9",
     "locked": true,
     "schema_version": 3,
     "solution": false,
     "task": false
    }
   },
   "source": [
    "En esta fase desarrollarás, a partir de alguno de los análisis realizados, una herramienta interactiva que sea relevante en el contexto del problema, acompañada de las instrucciones necesarias para que un usuario la pueda utilizar."
   ]
  },
  {
   "cell_type": "markdown",
   "metadata": {
    "nbgrader": {
     "grade": false,
     "grade_id": "cell-378e2b071d246af10",
     "locked": true,
     "schema_version": 3,
     "solution": false,
     "task": false
    }
   },
   "source": [
    "Pautas generales:\n",
    "\n",
    "* Seleccionar uno de los análisis previos que pueda verse enriquecido con alguna característica de interactividad.\n",
    "* Seleccionar el/los parámetro(s) que el usuario podrá cambiar.\n",
    "* Desarrollar las funciones que se deben ejecutar con cada acción del usuario.\n",
    "* Utilizar una librería especializada (ej., `ipywidgets`, `panel`, etc.) para implementar la herramienta."
   ]
  },
  {
   "cell_type": "markdown",
   "metadata": {
    "nbgrader": {
     "grade": false,
     "grade_id": "cell-378e2b071d246af11",
     "locked": true,
     "schema_version": 3,
     "solution": false,
     "task": false
    }
   },
   "source": [
    "Preguntas guía:\n",
    "\n",
    "* ¿Cuál o cuáles preguntas podrá hacerle el usuario a la herramienta y cómo aporta la respuesta al análisis?\n",
    "* ¿Qué aprendizajes clave puede explorar u obtener el usuario con esta herramienta?"
   ]
  },
  {
   "cell_type": "code",
   "execution_count": 67,
   "metadata": {
    "nbgrader": {
     "grade": true,
     "grade_id": "cell-6b287262b7ce28bb",
     "locked": false,
     "points": 30,
     "schema_version": 3,
     "solution": true,
     "task": false
    }
   },
   "outputs": [
    {
     "name": "stdout",
     "output_type": "stream",
     "text": [
      "{'ESTU_GENERO': 'F', 'ESTU_PAIS_RESIDE': 'COLOMBIA', 'ESTU_TIENEETNIA': 'No', 'ESTU_DEPTO_RESIDE': 'CUNDINAMARCA', 'FAMI_ESTRATOVIVIENDA': 'Estrato 6', 'FAMI_EDUCACIONPADRE': 'Postgrado', 'FAMI_EDUCACIONMADRE': 'Postgrado', 'FAMI_TIENEINTERNET': 'Si', 'FAMI_TIENECOMPUTADOR': 'Si', 'COLE_GENERO': 'MIXTO', 'COLE_AREA_UBICACION': 'RURAL', 'COLE_DEPTO_UBICACION': 'CUNDINAMARCA'}\n",
      "Predicción de puntaje global:  206.61886073689465\n"
     ]
    }
   ],
   "source": [
    "# Implementa tu respuesta en esta celda\n",
    "#Celda de código para poder probar diferentes valores y no tener que entrenar nuevamente el modelo.\n",
    "\n",
    "def map_values_to_numeric_ones(input_dict):\n",
    "    return {\n",
    "        \"ESTU_GENERO\": int(input_dict.get(\"ESTU_GENERO\") == 'M'),\n",
    "        \"ESTU_PAIS_RESIDE\": map_based_on_dict(input_dict.get(\"ESTU_PAIS_RESIDE\"), country_numeric_codes),\n",
    "        \"ESTU_TIENEETNIA\": int(input_dict.get(\"ESTU_TIENEETNIA\") == \"Si\"),\n",
    "        \"ESTU_DEPTO_RESIDE\": map_based_on_dict(input_dict.get(\"ESTU_DEPTO_RESIDE\"), dept_cods),\n",
    "        \"FAMI_ESTRATOVIVIENDA\": map_based_on_dict(input_dict.get(\"FAMI_ESTRATOVIVIENDA\"), estrato_cods),\n",
    "        \"FAMI_EDUCACIONPADRE\": map_based_on_dict(input_dict.get(\"FAMI_EDUCACIONPADRE\"), edu_cods),\n",
    "        \"FAMI_EDUCACIONMADRE\": map_based_on_dict(input_dict.get(\"FAMI_EDUCACIONMADRE\"), edu_cods),\n",
    "        \"FAMI_TIENEINTERNET\": int(input_dict.get(\"FAMI_TIENEINTERNET\") == \"Si\"),\n",
    "        \"FAMI_TIENECOMPUTADOR\": int(input_dict.get(\"FAMI_TIENECOMPUTADOR\") == \"Si\"),\n",
    "        \"COLE_GENERO\": map_based_on_dict(input_dict.get(\"COLE_GENERO\"), genero_col_cods),\n",
    "        \"COLE_AREA_UBICACION\": int(input_dict.get(\"COLE_AREA_UBICACION\") == \"URBANO\"),\n",
    "        \"COLE_DEPTO_UBICACION\": map_based_on_dict(input_dict.get(\"COLE_DEPTO_UBICACION\"), dept_cods),\n",
    "    }\n",
    "\n",
    "# Definición de función para calcular puntaje global\n",
    "def predecir_puntaje_global(input_dict, map_dict = False):\n",
    "    if (map_dict): input_dict = map_values_to_numeric_ones(input_dict)\n",
    "    print(input_dict)\n",
    "    input_df = pd.DataFrame([input_dict])\n",
    "    input_df = pd.get_dummies(input_df)\n",
    "    input_df = input_df.reindex(columns=X.columns, fill_value=0)\n",
    "    return model.predict(input_df)[0]\n",
    "\n",
    "#Resoltado de ejecutar: df.iloc[50]\n",
    "\n",
    "# ESTU_GENERO                        F\n",
    "# ESTU_PAIS_RESIDE            COLOMBIA\n",
    "# ESTU_TIENEETNIA                   No\n",
    "# ESTU_DEPTO_RESIDE       CUNDINAMARCA\n",
    "# FAMI_ESTRATOVIVIENDA       Estrato 6\n",
    "# FAMI_EDUCACIONPADRE        Postgrado\n",
    "# FAMI_EDUCACIONMADRE        Postgrado\n",
    "# FAMI_TIENEINTERNET                Si\n",
    "# FAMI_TIENECOMPUTADOR              Si\n",
    "# COLE_GENERO                    MIXTO\n",
    "# COLE_AREA_UBICACION            RURAL\n",
    "# COLE_DEPTO_UBICACION    CUNDINAMARCA\n",
    "# PUNT_GLOBAL                      289\n",
    "\n",
    "\n",
    "datos_prueba = {\n",
    "    \"ESTU_GENERO\": \"F\",\n",
    "    \"ESTU_PAIS_RESIDE\": \"COLOMBIA\",\n",
    "    \"ESTU_TIENEETNIA\": \"No\",\n",
    "    \"ESTU_DEPTO_RESIDE\": \"CUNDINAMARCA\",\n",
    "    \"FAMI_ESTRATOVIVIENDA\": \"Estrato 6\",\n",
    "    \"FAMI_EDUCACIONPADRE\": \"Postgrado\",\n",
    "    \"FAMI_EDUCACIONMADRE\": \"Postgrado\",\n",
    "    \"FAMI_TIENEINTERNET\": \"Si\",\n",
    "    \"FAMI_TIENECOMPUTADOR\": \"Si\",\n",
    "    \"COLE_GENERO\": \"MIXTO\",\n",
    "    \"COLE_AREA_UBICACION\": \"RURAL\",\n",
    "    \"COLE_DEPTO_UBICACION\": \"CUNDINAMARCA\"\n",
    "}\n",
    "\n",
    "datos_prueba2 = {\n",
    "    \"ESTU_GENERO\": \"M\",\n",
    "    \"ESTU_PAIS_RESIDE\": \"COLOMBIA\",\n",
    "    \"ESTU_TIENEETNIA\": \"No\",\n",
    "    \"ESTU_DEPTO_RESIDE\": \"CUNDINAMARCA\",\n",
    "    \"FAMI_ESTRATOVIVIENDA\": \"Estrato 6\",\n",
    "    \"FAMI_EDUCACIONPADRE\": \"Postgrado\",\n",
    "    \"FAMI_EDUCACIONMADRE\": \"Postgrado\",\n",
    "    \"FAMI_TIENEINTERNET\": \"Si\",\n",
    "    \"FAMI_TIENECOMPUTADOR\": \"Si\",\n",
    "    \"COLE_GENERO\": \"MIXTO\",\n",
    "    \"COLE_AREA_UBICACION\": \"URBANO\",\n",
    "    \"COLE_DEPTO_UBICACION\": \"CUNDINAMARCA\"\n",
    "}\n",
    "\n",
    "print(\"Predicción de puntaje global: \", predecir_puntaje_global(datos_prueba))"
   ]
  },
  {
   "cell_type": "markdown",
   "metadata": {
    "nbgrader": {
     "grade": false,
     "grade_id": "cell-c8a33682f37a6fa7",
     "locked": true,
     "schema_version": 3,
     "solution": false,
     "task": false
    }
   },
   "source": [
    "### Alternativa 2: registrar en bases de datos relacionales con PySpark"
   ]
  },
  {
   "cell_type": "markdown",
   "metadata": {
    "nbgrader": {
     "grade": false,
     "grade_id": "cell-c8a33682f37a6fa8",
     "locked": true,
     "schema_version": 3,
     "solution": false,
     "task": false
    }
   },
   "source": [
    "En esta fase desarrollarás, a partir de alguno de los análisis realizados, un _script_ que sea relevante en el contexto del problema, acompañado de las instrucciones necesarias para que un usuario lo pueda ejecutar."
   ]
  },
  {
   "cell_type": "markdown",
   "metadata": {
    "nbgrader": {
     "grade": false,
     "grade_id": "cell-c8a33682f37a6fa9",
     "locked": true,
     "schema_version": 3,
     "solution": false,
     "task": false
    }
   },
   "source": [
    "Pautas generales:\n",
    "\n",
    "* Cargar en una base de datos relacional (tipo SQL) el segmento de los datos sobre el cual profundizaste en tu anális, utilizando una tabla distinta para cada categoría de campos. Por ejemplo, una categoría puedes ser información del colegio; en cuyo caso, una tabla debería contener un registro único para cada colegio y todos los campos asociados.\n",
    "\n",
    "* Los campos, a excepción de los identificadores, deben existir en un única tabla.\n",
    "\n",
    "* Cada registro debe existir una única vez en su respectiva tabla.\n",
    "\n",
    "* Cada registro debe tener un identificador único en su tabla, el cual establece una relación entre tablas.\n",
    "\n",
    "* Seleccionar uno de los modelos predictivos implementados.\n",
    "\n",
    "* Crear en la base de datos relacional una tabla que contenga únicamente los identificadores del registro y la predicción de la variable de respuesta hecha por el modelo.\n",
    "\n",
    "* Desarrollar _queries_ de SQL según las siguientes indicaciones y concluir acerca de los resultados:\n",
    "    * Un _query_ que seleccione todos registros y los agregue en una única tabla. Para esto debes relacionar las tablas por su identificador, utilizando el método `JOIN`.\n",
    "    * Un _query_ que contenga el puntaje promedio de los estudiantes, agrupado por año y por colegio.\n",
    "    * Distintos _queries_ que calculen medidas de error de predicción del modelo a partir de los datos reales y las predicciones respectivas. Debes reportar el error para cada registro, el error total de los registros de entrenamiento y el error total de los registros de prueba.\n",
    "    * Haz dos _queries_ adicionales que resulten interesantes."
   ]
  },
  {
   "cell_type": "markdown",
   "metadata": {
    "nbgrader": {
     "grade": false,
     "grade_id": "cell-c8a33682f37a6fa10",
     "locked": true,
     "schema_version": 3,
     "solution": false,
     "task": false
    }
   },
   "source": [
    "Preguntas guía:\n",
    "\n",
    "* ¿Cómo aporta la segmentación de los datos en categorías de campos al manejo de los datos?\n",
    "* ¿Qué filtros y agrupaciones podemos aplicar sobre los datos con el fin de obtener información relevante?"
   ]
  },
  {
   "cell_type": "code",
   "execution_count": null,
   "metadata": {
    "nbgrader": {
     "grade": true,
     "grade_id": "cell-29052f96082e3438",
     "locked": false,
     "points": 0,
     "schema_version": 3,
     "solution": true,
     "task": false
    }
   },
   "outputs": [],
   "source": [
    "# Implementa tu respuesta en esta celda\n"
   ]
  },
  {
   "cell_type": "markdown",
   "metadata": {
    "nbgrader": {
     "grade": false,
     "grade_id": "cell-32cfb4282f725e3c",
     "locked": true,
     "schema_version": 3,
     "solution": false,
     "task": false
    }
   },
   "source": [
    "## Referencias"
   ]
  },
  {
   "cell_type": "markdown",
   "metadata": {
    "nbgrader": {
     "grade": false,
     "grade_id": "cell-32cfb4282f725e3c1",
     "locked": true,
     "schema_version": 3,
     "solution": false,
     "task": false
    }
   },
   "source": [
    "*  J. VanderPlas (2016) *Python Data Science Handbook: Essential Tools for Working with Data* O'Reilly Media, Inc.\n",
    "*  scikit-learn developers . (2020). Demo of DBSCAN clustering algorithm. 11 Diciembre 2020, de scikit-learn <br> https://scikit-learn.org/stable/auto_examples/cluster/plot_dbscan.html#sphx-glr-auto-examples-cluster-plot-dbscan-py"
   ]
  },
  {
   "cell_type": "markdown",
   "metadata": {
    "nbgrader": {
     "grade": false,
     "grade_id": "cell-32cfb4282f725e3c2",
     "locked": true,
     "schema_version": 3,
     "solution": false,
     "task": false
    }
   },
   "source": [
    "## Créditos"
   ]
  },
  {
   "cell_type": "markdown",
   "metadata": {
    "nbgrader": {
     "grade": false,
     "grade_id": "cell-32cfb4282f725e3c3",
     "locked": true,
     "schema_version": 3,
     "solution": false,
     "task": false
    }
   },
   "source": [
    "__Autores__: Camilo Hernando Gómez Castro, Alejandro Mantilla Redondo, Jose Fernando Barrera de Plaza, Diego Alejandro Cely Gómez.\n",
    "\n",
    "__Fecha última actualización__: 29/09/2022"
   ]
  }
 ],
 "metadata": {
  "celltoolbar": "Create Assignment",
  "kernelspec": {
   "display_name": "Python 3",
   "language": "python",
   "name": "python3"
  },
  "language_info": {
   "codemirror_mode": {
    "name": "ipython",
    "version": 3
   },
   "file_extension": ".py",
   "mimetype": "text/x-python",
   "name": "python",
   "nbconvert_exporter": "python",
   "pygments_lexer": "ipython3",
   "version": "3.13.2"
  }
 },
 "nbformat": 4,
 "nbformat_minor": 2
}
