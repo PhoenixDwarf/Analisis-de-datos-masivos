{
  "cells": [
    {
      "cell_type": "markdown",
      "metadata": {
        "id": "eNxN2vxtYHLW"
      },
      "source": [
        "<h1 align=\"center\">Taller 01 - Programación Básica en Python</h1>\n",
        "\n",
        "Para los siguientes ejercicios realice el modelaje y el programa en Python que soluciona el problema en cuestión."
      ]
    },
    {
      "cell_type": "markdown",
      "metadata": {
        "id": "DQjvFApcYHLd"
      },
      "source": [
        "## Ejercicio 01\n",
        "\n",
        "Realice el modelaje y el programa en Python que resuelva el siguiente problema:\n",
        "\n",
        "> Una tienda de licores compra a su distribuidor cajas de vino que luego vende por botellas. Dado una caja de vino que tiene un costo $c$ y contiene\n",
        "> $n$ botellas, se desea calcular el precio $p$ al que se debe vender cada botella, de manera tal que se obtenga un 30% de utilidad sobre el costo\n",
        "> total de las caja."
      ]
    },
    {
      "cell_type": "markdown",
      "metadata": {
        "id": "0pOS-3OoYHLe"
      },
      "source": [
        "### Modelaje\n",
        "\n",
        "**Datos de Entrada:**\n",
        "\n",
        "Nombre | Identificador | Tipo\n",
        "---|---|---\n",
        "Costo caja|c|float\n",
        "Unidades|n|int\n",
        "\n",
        "**Datos de Salida:**\n",
        "\n",
        "Nombre | Identificador | Tipo\n",
        "---|---|---\n",
        "Precio utilidad|p|float"
      ]
    },
    {
      "cell_type": "code",
      "execution_count": 1,
      "metadata": {
        "colab": {
          "base_uri": "https://localhost:8080/"
        },
        "id": "T1JOFv7tYHLe",
        "outputId": "22e6788f-fb7a-4365-8ec0-9f47e890f433"
      },
      "outputs": [
        {
          "name": "stdout",
          "output_type": "stream",
          "text": [
            "El precio de la botella con la utilidad 30%; 0.65\n"
          ]
        }
      ],
      "source": [
        "# Programa en Python que resuelve el Ejercicio 01\n",
        "\n",
        "# 1. Leer los datos de entrada\n",
        "c=float(input(\"Ingrese costo x caja: \"))\n",
        "n=int(input(\"Ingrese cantidad unidades x caja: \"))\n",
        "\n",
        "# 2. Calcular los datos de salida\n",
        "p=(c/2)*1.3\n",
        "# 3. Mostrar los datos de salida\n",
        "print(\"El precio de la botella con la utilidad 30%;\", p)"
      ]
    },
    {
      "cell_type": "markdown",
      "metadata": {
        "id": "JOtyq3p7YHLf"
      },
      "source": [
        "---"
      ]
    },
    {
      "cell_type": "markdown",
      "metadata": {
        "id": "G7u5vo-IYHLg"
      },
      "source": [
        "## Ejercicio 02\n",
        "\n",
        "Relice el modelaje y el programa en Python que resuelve el siguiente problema:\n",
        "\n",
        "> Se sabe que un profesor universitario contratado como catedrático, dedica una hora a\n",
        "> preparar una clase de dos horas y por cada cuatro horas de clase desarrolladas hace una\n",
        "> evaluación, la cual le toma dos horas calificar. Si al docente se le asigna un curso de $n$ horas\n",
        "> al semestre, ¿cuántas horas trabajará en total?"
      ]
    },
    {
      "cell_type": "markdown",
      "metadata": {
        "id": "a_fV0UJDYHLh"
      },
      "source": [
        "### Modelaje\n",
        "\n",
        "**Datos de Entrada:**\n",
        "\n",
        "Nombre | Identificador | Tipo\n",
        "---|---|---\n",
        "Horas|h|float\n",
        "\n",
        "**Datos de Salida:**\n",
        "\n",
        "Nombre | Identificador | Tipo\n",
        "---|---|---\n",
        "horasTotales|h|float"
      ]
    },
    {
      "cell_type": "code",
      "execution_count": 3,
      "metadata": {
        "colab": {
          "base_uri": "https://localhost:8080/"
        },
        "id": "h7xn_S0MYHLh",
        "outputId": "07cd41c5-802b-40d1-f0b3-a7cd203a89ca"
      },
      "outputs": [
        {
          "name": "stdout",
          "output_type": "stream",
          "text": [
            "El profesor trabajará un total de 50.0 horas en el semestre.\n"
          ]
        }
      ],
      "source": [
        "# Programa en Python que resuelve el Ejercicio 02\n",
        "\n",
        "# 1. Leer los datos de entrada\n",
        "h=float(input(\"Ingrese numero de horas de clase: \"))\n",
        "# 2. Calcular los datos de salida\n",
        "horasDePreparacion = h/2\n",
        "numeroDeEvaluaciones = h/4\n",
        "horasDeCalificacion = numeroDeEvaluaciones * 2\n",
        "horasTotales = h + horasDePreparacion + horasDeCalificacion\n",
        "# 3. Mostrar los datos de salida\n",
        "print(f\"El profesor trabajará un total de {horasTotales} horas en el semestre.\")"
      ]
    },
    {
      "cell_type": "markdown",
      "metadata": {
        "id": "YSOG3q8OYHLh"
      },
      "source": [
        "---"
      ]
    },
    {
      "cell_type": "markdown",
      "metadata": {
        "id": "YzY_5NR0YHLi"
      },
      "source": [
        "## Ejercicio 03\n",
        "\n",
        "Relice el modelaje y el programa en Python que resuelve el siguiente problema:\n",
        "\n",
        "> Un profesor diseña un examen con $n$ preguntas, estima que para calificar cada\n",
        "> pregunta requiere $m$ minutos. Si el examen se aplica a $m$ estudiantes, cuánto\n",
        "> tiempo (horas y minutos) necesita para calificar todos los exámenes."
      ]
    },
    {
      "cell_type": "markdown",
      "metadata": {
        "id": "YfYl7V9OYHLi"
      },
      "source": [
        "### Modelaje\n",
        "\n",
        "**Datos de Entrada:**\n",
        "\n",
        "Nombre | Identificador | Tipo\n",
        "---|---|---\n",
        "Preguntas|p|int\n",
        "Minutos por pregunta|m|int\n",
        "Numero de esudiantes|e|int\n",
        "**Datos de Salida:**\n",
        "\n",
        "Nombre | Identificador | Tipo\n",
        "---|---|---\n",
        "Tiempo total|h, m|string"
      ]
    },
    {
      "cell_type": "code",
      "execution_count": null,
      "metadata": {
        "colab": {
          "base_uri": "https://localhost:8080/"
        },
        "id": "OFoJWdIyYHLi",
        "outputId": "5424c44e-40be-4c77-9226-032eee25c786"
      },
      "outputs": [
        {
          "name": "stdout",
          "output_type": "stream",
          "text": [
            "Ingrese número de preguntas: 10\n",
            "Ingrese el número de minutos que estima el profesor por pregunta: 1\n",
            "Ingrese número de estudiantes: 5\n",
            "El tiempo estimado es: 2 horas y 45.0 minutos\n"
          ]
        }
      ],
      "source": [
        "# Programa en Python que resuelve el Ejercicio 03\n",
        "\n",
        "# 1. Leer los datos de entrada\n",
        "p=float(input(\"Ingrese número de preguntas: \"))\n",
        "m=float(input(\"Ingrese el número de minutos que estima el profesor por pregunta: \"))\n",
        "e=float(input(\"Ingrese número de estudiantes: \"))\n",
        "# 2. Calcular los datos de salida\n",
        "w=n*m*e\n",
        "h=int(w/60)\n",
        "m=w%60\n",
        "# 3. Mostrar los datos de salida\n",
        "print(\"El tiempo estimado es:\",h,\"horas y\",m,\"minutos\")\n"
      ]
    },
    {
      "cell_type": "markdown",
      "metadata": {
        "id": "IEvygdAiYHLi"
      },
      "source": [
        "---"
      ]
    },
    {
      "cell_type": "markdown",
      "metadata": {
        "id": "a3VfHWTcYHLj"
      },
      "source": [
        "## Ejercicio 04\n",
        "\n",
        "Realice el modelaje y el programa en Python que resuelva el siguiente problema:\n",
        "\n",
        "> Tres personas deciden invertir su dinero para fundar una empresa. Cada una de ellas\n",
        "> invierte una cantidad distinta. Obtener el porcentaje que cada cual invierte con\n",
        "> respecto a la cantidad total invertida."
      ]
    },
    {
      "cell_type": "markdown",
      "metadata": {
        "id": "4g4XV165YHLj"
      },
      "source": [
        "### Modelaje\n",
        "\n",
        "**Datos de Entrada:**\n",
        "\n",
        "Nombre | Identificador | Tipo\n",
        "---|---|---\n",
        "inversion1|a|float\n",
        "inversion2|b|float\n",
        "inversion3|c|float\n",
        "\n",
        "**Datos de Salida:**\n",
        "\n",
        "Nombre | Identificador | Tipo\n",
        "---|---|---\n",
        "porcentaje1|d|float\n",
        "porcentaje2|e|float\n",
        "porcentaje3|f|float"
      ]
    },
    {
      "cell_type": "code",
      "execution_count": null,
      "metadata": {
        "colab": {
          "base_uri": "https://localhost:8080/"
        },
        "id": "tTjA1Z4BYHLj",
        "outputId": "d612707a-980e-40d6-eacf-605b4979112d"
      },
      "outputs": [
        {
          "name": "stdout",
          "output_type": "stream",
          "text": [
            "Ingrese el valor de inversionista 1: 2000\n",
            "Ingrese el valor de inversionista 2: 5000\n",
            "Ingrese el valor de inversionista 3: 3000\n",
            "el porcentaje del inversionista 1 es: 20.0 \n",
            "el porcentaje del inversionista 2 es: 50.0 \n",
            "el porcentaje del inversionista 3 es: 30.0 \n"
          ]
        }
      ],
      "source": [
        "# Programa en Python que resuelve el Ejercicio 04\n",
        "\n",
        "# 1. Leer los datos de entrada\n",
        "a=float(input(\"Ingrese el valor de inversionista 1: \"))\n",
        "b=float(input(\"Ingrese el valor de inversionista 2: \"))\n",
        "c=float(input(\"Ingrese el valor de inversionista 3: \"))\n",
        "# 2. Calcular los datos de salida\n",
        "t=a+b+c\n",
        "d=(a*100)/t\n",
        "e=(b*100)/t\n",
        "f=(c*100)/t\n",
        "# 3. Mostrar los datos de salida\n",
        "print(f\"El porcentaje del inversionista 1 es: {d}.\")\n",
        "print(f\"El porcentaje del inversionista 2 es: {e}.\")\n",
        "print(f\"El porcentaje del inversionista 3 es: {f}.\")\n"
      ]
    },
    {
      "cell_type": "markdown",
      "metadata": {
        "id": "lW8DImOGYHLk"
      },
      "source": [
        "---"
      ]
    },
    {
      "cell_type": "markdown",
      "metadata": {
        "id": "NpINU3o0YHLk"
      },
      "source": [
        "## Ejercicio 05\n",
        "\n",
        "Realice el modelaje y el programa en Python que resuelva el siguiente problema:\n",
        "\n",
        "> Un estudiante desea saber cuál será su calificación final en Programación. Dicha\n",
        "> calificación se compone del promedio de tres notas parciales. Cada nota parcial se\n",
        "> obtiene a partir de un taller, una evaluación teórica y una evaluación práctica. Los\n",
        "> talleres equivalen al 25% de la nota del parcial, las evaluaciones teóricas al 35% y las\n",
        "> evaluaciones prácticas al 40%."
      ]
    },
    {
      "cell_type": "markdown",
      "metadata": {
        "id": "3I5XNUeSYHLk"
      },
      "source": [
        "### Modelaje\n",
        "\n",
        "**Datos de Entrada:**\n",
        "\n",
        "Nombre | Identificador | Tipo\n",
        "---|---|---\n",
        "Nota taller|taller|float\n",
        "Nota evaluación téorica|teorica|float\n",
        "Nota evaluación practica|practica|float\n",
        "\n",
        "**Datos de Salida:**\n",
        "\n",
        "Nombre | Identificador | Tipo\n",
        "---|---|---\n",
        "Nota final|nota_final| float"
      ]
    },
    {
      "cell_type": "markdown",
      "metadata": {},
      "source": [
        "## Ejercicio 05\n",
        "\n",
        "Realice el modelaje y el programa en Python que resuelva el siguiente problema:\n",
        "\n",
        "> Un estudiante desea saber cuál será su calificación final en Programación. Dicha\n",
        "> calificación se compone del promedio de tres notas parciales. Cada nota parcial se\n",
        "> obtiene a partir de un taller, una evaluación teórica y una evaluación práctica. Los\n",
        "> talleres equivalen al 25% de la nota del parcial, las evaluaciones teóricas al 35% y las\n",
        "> evaluaciones prácticas al 40%."
      ]
    },
    {
      "cell_type": "code",
      "execution_count": null,
      "metadata": {
        "id": "Aktm-_O3YHLk"
      },
      "outputs": [
        {
          "name": "stdout",
          "output_type": "stream",
          "text": [
            "Calificación Final en Programación: 3.8\n"
          ]
        }
      ],
      "source": [
        "# Programa en Python que resuelve el Ejercicio 05\n",
        "\n",
        "# 1. Leer los datos de entrada\n",
        "\n",
        "taller = float(input(\"Ingrese Nota del Taller: \"))\n",
        "teorica = float(input(\"Ingrese Nota de la Evaluación Teórica: \"))\n",
        "practica = float(input(\"Ingrese Nota de la Evaluación Práctica: \"))\n",
        "\n",
        "# 2. Calcular los datos de salida\n",
        "\n",
        "taller = (taller * 25) / 100\n",
        "teorica = (teorica * 35) / 100\n",
        "practica = (practica * 40) / 100\n",
        "\n",
        "nota_final = round((taller + teorica + practica), 1)\n",
        "\n",
        "# 3. Mostrar los datos de salida\n",
        "\n",
        "print(f\"Calificación Final en Programación: {nota_final}\")\n",
        "\n",
        "\n"
      ]
    },
    {
      "cell_type": "markdown",
      "metadata": {
        "id": "gsTfNCWpYHLl"
      },
      "source": [
        "---"
      ]
    },
    {
      "cell_type": "markdown",
      "metadata": {
        "id": "0cpIdGmPYHLl"
      },
      "source": [
        "## Ejercicio 06\n",
        "\n",
        "Realice el modelaje y el programa en Python que resuelve el siguiente problema:\n",
        "\n",
        "> Leer un número entero de cuatro dígitos y separar sus dígitos en: miles, centenas, decenas y unidades."
      ]
    },
    {
      "cell_type": "markdown",
      "metadata": {
        "id": "v7o_H3GcYHLl"
      },
      "source": [
        "### Modelaje\n",
        "\n",
        "**Datos de Entrada:**\n",
        "\n",
        "Nombre | Identificador | Tipo\n",
        "---|---|---\n",
        "Numero|num|int\n",
        "\n",
        "**Datos de Salida:**\n",
        "\n",
        "Nombre | Identificador | Tipo\n",
        "---|---|---\n",
        "miles|miles|int\n",
        "centenas|centenas|int\n",
        "decenas|decenas|int\n",
        "unidades|unidades|int"
      ]
    },
    {
      "cell_type": "code",
      "execution_count": null,
      "metadata": {
        "id": "lDf_iVecYHLl"
      },
      "outputs": [
        {
          "name": "stdout",
          "output_type": "stream",
          "text": [
            "Miles: 8\n",
            "Centenas: 7\n",
            "Decenas: 8\n",
            "Unidades: 7\n"
          ]
        }
      ],
      "source": [
        "# Programa en Python que resuelve el Ejercicio 06\n",
        "\n",
        "# 1. Leer los datos de entrada\n",
        "num = int(input(\"Ingrese un número de 4 dígitos: \"))\n",
        "\n",
        "# 2. Calcular los datos de salida\n",
        "miles = num // 1000\n",
        "centenas = (num // 100) % 10\n",
        "decenas = (num // 10) % 10\n",
        "unidades = num % 10 \n",
        "\n",
        "# 3. Mostrar los datos de salida\n",
        "\n",
        "print(f\"Miles: {miles}\")\n",
        "print(f\"Centenas: {centenas}\")\n",
        "print(f\"Decenas: {decenas}\")\n",
        "print(f\"Unidades: {unidades}\")"
      ]
    },
    {
      "cell_type": "markdown",
      "metadata": {
        "id": "-ZrzR23MYHLl"
      },
      "source": [
        "---"
      ]
    },
    {
      "cell_type": "markdown",
      "metadata": {
        "id": "tpeByvtcYHLm"
      },
      "source": [
        "## Ejercicio 07\n",
        "\n",
        "Escriba el modelaje y el programa en Python que resuelva el siguiente problema:\n",
        "\n",
        "> Las utilidades de una empresa se distribuyen entre tres socios así: socio A = 40%,\n",
        "> socio B = 25% y socio C = 35%. Dada una cantidad de dinero ¿cuánto corresponderá\n",
        "> a cada uno?"
      ]
    },
    {
      "cell_type": "markdown",
      "metadata": {
        "id": "XB79WbZvYHLm"
      },
      "source": [
        "### Modelaje\n",
        "\n",
        "**Datos de Entrada:**\n",
        "\n",
        "Nombre | Identificador | Tipo\n",
        "---|---|---\n",
        "dinero|dinero|float\n",
        "\n",
        "**Datos de Salida:**\n",
        "\n",
        "Nombre | Identificador | Tipo\n",
        "---|---|---\n",
        "Utilidad Socio A|socio_a|float\n",
        "Utilidad Socio B|socio_b|float\n",
        "Utilidad Socio C|socio_c|float"
      ]
    },
    {
      "cell_type": "code",
      "execution_count": 9,
      "metadata": {
        "id": "C1x7Q3UZYHLm"
      },
      "outputs": [
        {
          "name": "stdout",
          "output_type": "stream",
          "text": [
            "Utilidad Socio A: 210400.0\n",
            "Utilidad Socio B: 131500.0\n",
            "Utilidad Socio C: 184100.0\n",
            "Verificación: 526000.0\n"
          ]
        }
      ],
      "source": [
        "# Programa en Python que resuelve el Ejercicio 07\n",
        "\n",
        "# 1. Leer los datos de entrada\n",
        "dinero = float(input(\"Ingrese la cantidad de dinero: \"))\n",
        "# 2. Calcular los datos de salida\n",
        "socio_a = (dinero*(40/100))\n",
        "socio_b = (dinero*(25/100))\n",
        "socio_c = (dinero*(35/100))\n",
        "# 3. Mostrar los datos de salida\n",
        "print(f\"Utilidad Socio A: {socio_a}\")\n",
        "print(f\"Utilidad Socio B: {socio_b}\")\n",
        "print(f\"Utilidad Socio C: {socio_c}\")\n",
        "print(f\"Verificación: {socio_a+socio_b+socio_c}\")"
      ]
    },
    {
      "cell_type": "markdown",
      "metadata": {
        "id": "aQ5_VoDOYHLm"
      },
      "source": [
        "---"
      ]
    },
    {
      "cell_type": "markdown",
      "metadata": {
        "id": "m_hqnhNHYHLm"
      },
      "source": [
        "## Ejercicio 08\n",
        "\n",
        "Realice el modelaje y el programa en Python que resuelva el siguiente problema:\n",
        "\n",
        "> Calcular el área y el perímetro de un rectángulo de altura $a$ y base $b$.\n",
        "\n",
        "![area rectangulo](https://calculo.cc/temas/temas_geometria/perimetro_area/imagenes/teoria/perim_area/rectangulo.gif)"
      ]
    },
    {
      "cell_type": "markdown",
      "metadata": {
        "id": "56xgB7AbYHLn"
      },
      "source": [
        "### Modelaje\n",
        "\n",
        "**Datos de Entrada:**\n",
        "\n",
        "Nombre | Identificador | Tipo\n",
        "---|---|---\n",
        "base|base|float\n",
        "altura|altura|float\n",
        "\n",
        "**Datos de Salida:**\n",
        "\n",
        "Nombre | Identificador | Tipo\n",
        "---|---|---\n",
        "area|area|float\n",
        "perimetro|perimetro|float"
      ]
    },
    {
      "cell_type": "code",
      "execution_count": 11,
      "metadata": {
        "id": "YYOYZnKnYHLn"
      },
      "outputs": [
        {
          "name": "stdout",
          "output_type": "stream",
          "text": [
            "El area del rectangulo es: 400.0\n",
            "El perimetro del rectangulo es: 80.0\n"
          ]
        }
      ],
      "source": [
        "# Programa en Python que resuelve el Ejercicio 08\n",
        "\n",
        "# 1. Leer los datos de entrada\n",
        "base = float(input(\"Ingrese la base del rectángulo: \"))\n",
        "altura = float(input(\"Ingrese la altura del rectángulo: \"))\n",
        "# 2. Calcular los datos de salida\n",
        "area = base * altura\n",
        "perimetro = 2 * base + 2 * altura\n",
        "# 3. Mostrar los datos de salida\n",
        "print(f\"El area del rectangulo es: {area}\")\n",
        "print(f\"El perimetro del rectangulo es: {perimetro}\")"
      ]
    },
    {
      "cell_type": "markdown",
      "metadata": {
        "id": "DMyFBm9EYHLn"
      },
      "source": [
        "---"
      ]
    },
    {
      "cell_type": "markdown",
      "metadata": {
        "id": "2_25vEzuYHLn"
      },
      "source": [
        "## Ejercicio 09\n",
        "\n",
        "Escriba el modelaje y un programa en Python que resuelva el siguiente problema:\n",
        "\n",
        "> Un vendedor recibe un 10% de comisión sobre sus ventas. Si en\n",
        "> un mes cualquiera hace tres ventas por valores diferentes ¿cuánto recibirá por\n",
        "> comisión en cada una de las ventas? y ¿cuánto en total?"
      ]
    },
    {
      "cell_type": "markdown",
      "metadata": {
        "id": "b3ZXlpEXYHLn"
      },
      "source": [
        "### Modelaje\n",
        "\n",
        "**Datos de Entrada:**\n",
        "\n",
        "Nombre | Identificador | Tipo\n",
        "---|---|---\n",
        "venta 1|venta1|float\n",
        "venta 2|venta2|float\n",
        "venta 3|venta3|float\n",
        "\n",
        "**Datos de Salida:**\n",
        "\n",
        "Nombre | Identificador | Tipo\n",
        "---|---|---\n",
        "Comisión venta 1|co_venta_1|float\n",
        "Comisión venta 2|co_venta_2|float\n",
        "Comisión venta 3|co_venta_3|float\n",
        "Comisión total|co_total|float"
      ]
    },
    {
      "cell_type": "code",
      "execution_count": 12,
      "metadata": {
        "id": "oCa9IPGCYHLo"
      },
      "outputs": [
        {
          "name": "stdout",
          "output_type": "stream",
          "text": [
            "Comisión Venta 1: 10.0\n",
            "Comisión Venta 2: 10.0\n",
            "Comisión Venta 3: 10.0\n",
            "Comisión total: 30.0\n"
          ]
        }
      ],
      "source": [
        "# Programa en Python que resuelve el Ejercicio 09\n",
        "\n",
        "# 1. Leer los datos de entrada\n",
        "venta1 = float(input(\"Ingrese el valor de la venta 1: \"))\n",
        "venta2 = float(input(\"Ingrese el valor de la venta 2: \"))\n",
        "venta3 = float(input(\"Ingrese el valor de la venta 3: \"))\n",
        "# 2. Calcular los datos de salida\n",
        "calcular_comision = lambda valor : valor*0.10\n",
        "co_venta_1 = calcular_comision(venta1)\n",
        "co_venta_2 = calcular_comision(venta2)\n",
        "co_venta_3 = calcular_comision(venta3)\n",
        "# 3. Mostrar los datos de salida\n",
        "print(f\"Comisión Venta 1: {co_venta_1}\")\n",
        "print(f\"Comisión Venta 2: {co_venta_2}\")\n",
        "print(f\"Comisión Venta 3: {co_venta_3}\")\n",
        "print(f\"Comisión total: {(venta1+venta2+venta3)*0.10}\")"
      ]
    },
    {
      "cell_type": "markdown",
      "metadata": {
        "id": "J784zx-GYHLo"
      },
      "source": [
        "---"
      ]
    },
    {
      "cell_type": "markdown",
      "metadata": {
        "id": "qiuhJpGBYHLp"
      },
      "source": [
        "## Ejercicio 10\n",
        "\n",
        "Escriba el modelaje y un programa en Python que resuelva el siguiente problema:\n",
        "\n",
        "> Una tienda vende tres tipos diferentes de productos: los productos tipo ‘A’ que cuestan cada uno 1000 pesos; los productos tipo ‘C’, que cuesta cada uno dos mil quinientos pesos y los productos tipo ‘Z’, donde cada uno cuesta tres mil pesos. Queremos que a partir del número de productos que compraron de cada tipo de producto en un día, determine el valor total recolectado por la tienda gracias a la venta de esos productos en el día."
      ]
    },
    {
      "cell_type": "markdown",
      "metadata": {
        "id": "ZLTq-NWUYHLp"
      },
      "source": [
        "### Modelaje\n",
        "\n",
        "**Datos de Entrada:**\n",
        "\n",
        "Nombre | Identificador | Tipo\n",
        "---|---|---\n",
        "Productos de tipo A|tipoA|float\n",
        "Productos de tipo C|tipoC|float\n",
        "Productos de tipo Z|tipoZ|float\n",
        "\n",
        "**Datos de Salida:**\n",
        "\n",
        "Nombre | Identificador | Tipo\n",
        "---|---|---\n",
        "Valor total recolectado|valor_total|float"
      ]
    },
    {
      "cell_type": "code",
      "execution_count": 18,
      "metadata": {
        "id": "zI8UY-ASYHLp"
      },
      "outputs": [
        {
          "name": "stdout",
          "output_type": "stream",
          "text": [
            "El valor total recolectado este dia es de: 6500.0\n"
          ]
        }
      ],
      "source": [
        "# Programa en Python que resuelve el Ejercicio 10\n",
        "\n",
        "# 1. Leer los datos de entrada\n",
        "tipoA = float(input(\"Ingrese el numero de productos tipo A: \"))\n",
        "tipoC = float(input(\"Ingrese el numero de productos tipo C:\"))\n",
        "tipoZ = float(input(\"Ingrese el numero de productos tipo Z:\"))\n",
        "# 2. Calcular los datos de salida\n",
        "valor_total = tipoA*1000 + tipoC*2500 + tipoZ*3000\n",
        "# 3. Mostrar los datos de salida\n",
        "print(f\"El valor total recolectado este dia es de: {valor_total}\")\n"
      ]
    },
    {
      "cell_type": "markdown",
      "metadata": {
        "id": "J1nzY6RwYHLq"
      },
      "source": [
        "---"
      ]
    },
    {
      "cell_type": "markdown",
      "metadata": {
        "id": "EUGivc_RYHLq"
      },
      "source": [
        "## Ejercicio 11\n",
        "\n",
        "Solucione el mismo problema del Ejercicio 10, pero construya una función que resuelva el problema y luego **use la función** en el programa."
      ]
    },
    {
      "cell_type": "markdown",
      "metadata": {
        "id": "tF0SMvZwYHLq"
      },
      "source": [
        "### Modelaje de la función\n",
        "\n",
        "**Datos de Entrada:**\n",
        "\n",
        "Nombre | Identificador | Tipo\n",
        "---|---|---\n",
        "Productos de tipo A|tipoA|float\n",
        "Productos de tipo C|tipoC|float\n",
        "Productos de tipo Z|tipoZ|float\n",
        "\n",
        "\n",
        "**Datos de Salida:**\n",
        "\n",
        "Nombre | Identificador | Tipo\n",
        "---|---|---\n",
        "Valor total recolectado|valor_total|float"
      ]
    },
    {
      "cell_type": "code",
      "execution_count": 17,
      "metadata": {
        "id": "4f0rXwOsYHLq"
      },
      "outputs": [
        {
          "name": "stdout",
          "output_type": "stream",
          "text": [
            "El valor total recolectado este dia es de: 6500\n"
          ]
        }
      ],
      "source": [
        "# Definición de la función\n",
        "def obtenerTotal(tipoA: float, tipoC: float, tipoZ: float) -> float:\n",
        "    valor_total = tipoA*1000 + tipoC*2500 + tipoZ*3000\n",
        "    return valor_total\n",
        "\n",
        "print(f\"El valor total recolectado este dia es de: {obtenerTotal(1,1,1)}\")\n"
      ]
    },
    {
      "cell_type": "markdown",
      "metadata": {
        "id": "hwy3ttIYYHLq"
      },
      "source": [
        "---"
      ]
    },
    {
      "cell_type": "markdown",
      "metadata": {
        "id": "Bz0Ec3YjYHLr"
      },
      "source": [
        "## Ejercicio 12\n",
        "\n",
        "Utilizando funciones, escribe el modelaje y un programa en Python que permita obtener el área lateral ($A_L$), el área total ($A_T$) y el volumen de un cono, a partir del valor de la generatriz ($g$), el radio de la base ($r$) y la altura ($h$) del cono. Las fórmulas se presentan en la siguiente figura:\n",
        "\n",
        "![Un cono](https://cuerpossolidosgeometricos1.files.wordpress.com/2012/03/areacono1.jpg?w=300&h=243)"
      ]
    },
    {
      "cell_type": "markdown",
      "metadata": {
        "id": "qNo36n3ZYHLr"
      },
      "source": [
        "## Modelaje de la función que halla el Área Lateral\n",
        "\n",
        "**Datos de Entrada:**\n",
        "\n",
        "Nombre | Identificador | Tipo\n",
        "---|---|---\n",
        "generatriz|g|float\n",
        "radio|r|float\n",
        "\n",
        "**Datos de Salida:**\n",
        "\n",
        "Nombre | Identificador | Tipo\n",
        "---|---|---\n",
        "área lateral|AL|float"
      ]
    },
    {
      "cell_type": "code",
      "execution_count": 30,
      "metadata": {
        "id": "fAvzL6dzYHLr"
      },
      "outputs": [],
      "source": [
        "# Si queremos usar pi, debemos incluir esta librería\n",
        "import math\n",
        "\n",
        "# Función que permite encontrar el área lateral del cono\n",
        "def obtener_area_lateral(r,g): \n",
        "    return math.pi*r*g"
      ]
    },
    {
      "cell_type": "markdown",
      "metadata": {
        "id": "z7CZ8HVVYHLr"
      },
      "source": [
        "## Modelaje de la función que halla el Área Total\n",
        "\n",
        "**Datos de Entrada:**\n",
        "\n",
        "Nombre | Identificador | Tipo\n",
        "---|---|---\n",
        "generatriz|g|float\n",
        "radio|r|float\n",
        "\n",
        "**Datos de Salida:**\n",
        "\n",
        "Nombre | Identificador | Tipo\n",
        "---|---|---\n",
        "área total|AT|float"
      ]
    },
    {
      "cell_type": "code",
      "execution_count": 27,
      "metadata": {
        "id": "9fyiA_SXYHLs"
      },
      "outputs": [],
      "source": [
        "# Función que permite encontrar el área total del cono (puede usarse la función anterior)\n",
        "def obtener_area_total(r,g):\n",
        "    return (math.pi*r*g) + (math.pi*(r**2))"
      ]
    },
    {
      "cell_type": "markdown",
      "metadata": {
        "id": "qjEVsAeWYHLs"
      },
      "source": [
        "## Modelaje de la función que halla el Volumen\n",
        "\n",
        "**Datos de Entrada:**\n",
        "\n",
        "Nombre | Identificador | Tipo\n",
        "---|---|---\n",
        "radio|r|float\n",
        "altura|h|float\n",
        "\n",
        "**Datos de Salida:**\n",
        "\n",
        "Nombre | Identificador | Tipo\n",
        "---|---|---\n",
        "volumen|V|float"
      ]
    },
    {
      "cell_type": "code",
      "execution_count": 33,
      "metadata": {
        "id": "1AAtdKxMYHLs"
      },
      "outputs": [],
      "source": [
        "# Función que permite encontrar el volumen del cono\n",
        "def obtener_volumen(r,h):\n",
        "    return (1/3)*(math.pi*r**2) * h"
      ]
    },
    {
      "cell_type": "markdown",
      "metadata": {
        "id": "y_w0LzEYYHLs"
      },
      "source": [
        "## Modelaje del programa que resuelve el problema\n",
        "\n",
        "**Datos de Entrada:**\n",
        "\n",
        "Nombre | Identificador | Tipo\n",
        "---|---|---\n",
        "generatriz|g|float\n",
        "radio|r|float\n",
        "altura|h|float\n",
        "\n",
        "**Datos de Salida:**\n",
        "\n",
        "Nombre | Identificador | Tipo\n",
        "---|---|---\n",
        "área lateral|AL|float\n",
        "área total|AT|float\n",
        "volumen|V|float"
      ]
    },
    {
      "cell_type": "code",
      "execution_count": 34,
      "metadata": {
        "id": "R99twbrJYHLs"
      },
      "outputs": [
        {
          "name": "stdout",
          "output_type": "stream",
          "text": [
            "El área lateral es: 12.566370614359172\n",
            "El área total es: 25.132741228718345\n",
            "El volumen es: 8.377580409572781\n"
          ]
        }
      ],
      "source": [
        "# Programa en Python que resuelve el Ejercicio 12\n",
        "\n",
        "# 1. Leer los datos de entrada\n",
        "r = float(input(\"Ingrese el radio de la base: \"))\n",
        "g = float(input(\"Ingrese el valor de la generatriz: \"))\n",
        "h = float(input(\"Ingrese la altura: \"))\n",
        "# 2. Calcular los datos de salida, USANDO LAS 3 FUNCIONES ANTERIORES\n",
        "AL = obtener_area_lateral(r,g)\n",
        "AT = obtener_area_total(r,g)\n",
        "V = obtener_volumen(r,h)\n",
        "# 3. Mostrar los datos de salida\n",
        "print(f\"El área lateral es: {AL}\")\n",
        "print(f\"El área total es: {AT}\")\n",
        "print(f\"El volumen es: {V}\")"
      ]
    },
    {
      "cell_type": "markdown",
      "metadata": {
        "id": "kw7q3pS8YHLs"
      },
      "source": [
        "---"
      ]
    },
    {
      "cell_type": "markdown",
      "metadata": {
        "id": "2uWZMiHhYHLt"
      },
      "source": [
        "## Ejercicio 13\n",
        "\n",
        "Una empresa constructora vende terrenos con la forma a continuación:\n",
        "\n",
        "![Ejercicio2](https://bit.ly/EAN190201)\n",
        "\n",
        "Realice el modelaje, una serie de funciones y el programa en Python que permita obtener el área y perímetro del respectivo terreno.\n",
        "\n",
        "Comencemos por realizar una serie de funciones que más tarde utilizaremos en el programa.\n",
        "\n",
        "Primero una función que halle el área del rectángulo."
      ]
    },
    {
      "cell_type": "markdown",
      "metadata": {
        "id": "pZvWDkAUYHLt"
      },
      "source": [
        "\n",
        "\n",
        "## Modelaje de la función que encuentra el área y el perímetro de un rectángulo\n",
        "\n",
        "**Datos de Entrada:**\n",
        "\n",
        "Nombre | Identificador | Tipo\n",
        "---|---|---\n",
        "Base|base|float\n",
        "Altura|altura|float\n",
        "\n",
        "**Datos de Salida:**\n",
        "\n",
        "Nombre | Identificador | Tipo\n",
        "---|---|---\n",
        "Area|area|float"
      ]
    },
    {
      "cell_type": "code",
      "execution_count": 44,
      "metadata": {
        "id": "lyH6EFOuYHLt"
      },
      "outputs": [],
      "source": [
        "# Definición de la función que encuentra el área y el perímetro de un rectángulo\n",
        "def hallar_area_rectangulo(base:float, altura:float) -> float: \n",
        "    return base*altura"
      ]
    },
    {
      "cell_type": "markdown",
      "metadata": {
        "id": "rJCIN9TEYHLt"
      },
      "source": [
        "## Modelaje de la función que encuentra la hipotenusa de un triángulo rectangulo a partir de los catetos\n",
        "\n",
        "**Datos de Entrada:**\n",
        "\n",
        "Nombre | Identificador | Tipo\n",
        "---|---|---\n",
        "cateto 1|cateto1|float\n",
        "cateto 2| cateto2|float\n",
        "\n",
        "**Datos de Salida:**\n",
        "\n",
        "Nombre | Identificador | Tipo\n",
        "---|---|---\n",
        "Hipotenusa|hipotenusa|float"
      ]
    },
    {
      "cell_type": "code",
      "execution_count": 41,
      "metadata": {
        "id": "Gzzwicu0YHLt"
      },
      "outputs": [],
      "source": [
        "# Definición de la función que encuentra la hipotenusa del tríángulo rectángulo\n",
        "def hallar_hipotenusa(cateto1:float, cateto2:float) -> float:\n",
        "    return math.sqrt(cateto1**2 + cateto2**2)"
      ]
    },
    {
      "cell_type": "markdown",
      "metadata": {
        "id": "zv2hICqXYHLt"
      },
      "source": [
        "## Modelaje de la función que encuentra el área y el perímetro de un triángulo rectángulo conociendo los 2 catetos\n",
        "\n",
        "**Datos de Entrada:**\n",
        "\n",
        "Nombre | Identificador | Tipo\n",
        "---|---|---\n",
        "cateto 1|cateto1|float\n",
        "cateto 2| cateto2|float\n",
        "\n",
        "**Datos de Salida:**\n",
        "\n",
        "Nombre | Identificador | Tipo\n",
        "---|---|---\n",
        "Área y perímetro|(area, perimetro)|tuple"
      ]
    },
    {
      "cell_type": "code",
      "execution_count": 42,
      "metadata": {
        "id": "FuHGJqueYHLu"
      },
      "outputs": [],
      "source": [
        "# Función que encuentra el área y perímetro de un triángulo rectángulo a partir de los dos catetos\n",
        "# Debe usar la función anterior para encontrar el tercer lado del triángulo\n",
        "def hallar_area_y_perimetro_triangulo(cateto1:float, cateto2:float) -> tuple:\n",
        "   area = (cateto1*cateto2)/2\n",
        "   hipotenusa = hallar_hipotenusa(cateto1, cateto2)\n",
        "   perimetro = cateto1 + cateto2 + hipotenusa\n",
        "   return (area, perimetro)"
      ]
    },
    {
      "cell_type": "markdown",
      "metadata": {
        "id": "_7XIUHtcYHLu"
      },
      "source": [
        "## Modelaje de la función que encuentra el área y el perímetro del terreno, a partir de los datos que vemos en la figura\n",
        "\n",
        "**Datos de Entrada:**\n",
        "\n",
        "Nombre | Identificador | Tipo\n",
        "---|---|---\n",
        "a|a|float\n",
        "b|b|float\n",
        "c|c|float\n",
        "\n",
        "**Datos de Salida:**\n",
        "\n",
        "Nombre | Identificador | Tipo\n",
        "---|---|---\n",
        "Área del terreno|area\n",
        "Perímetro del terreno|perimetro"
      ]
    },
    {
      "cell_type": "code",
      "execution_count": 45,
      "metadata": {
        "id": "DKsvkAflYHLu"
      },
      "outputs": [
        {
          "name": "stdout",
          "output_type": "stream",
          "text": [
            "El area del terreno es: 300.0\n",
            "El perimetro del terreno es: 72.36067977499789\n"
          ]
        }
      ],
      "source": [
        "# Programa en Python que resuelve el Ejercicio 13\n",
        "\n",
        "# 1. Leer los datos de entrada\n",
        "a = float(input(\"Ingrese el valor de a: \"))\n",
        "b = float(input(\"Ingrese el valor de b: \"))\n",
        "c = float(input(\"Ingrese el valor de c: \"))\n",
        "# 2. Calcular los datos de salida, USANDO LAS FUNCIONES ANTERIORES (OJO, No necesita usar la de hipotenusa aquí)\n",
        "cateto_triangulo = a-c\n",
        "hipotenusa_triangulo = hallar_hipotenusa(cateto_triangulo, b)\n",
        "area_rectangulo = hallar_area_rectangulo(b, c)\n",
        "area_triangulo = hallar_area_y_perimetro_triangulo(cateto_triangulo, b)[0]\n",
        "\n",
        "area = area_rectangulo + area_triangulo\n",
        "perimetro = a+b+c+hipotenusa_triangulo\n",
        "# 3. Mostrar los datos de salida\n",
        "print(f\"El area del terreno es: {area}\")\n",
        "print(f\"El perimetro del terreno es: {perimetro}\")\n"
      ]
    },
    {
      "cell_type": "markdown",
      "metadata": {
        "id": "YxWA1gy4YHLu"
      },
      "source": [
        "---"
      ]
    },
    {
      "cell_type": "markdown",
      "metadata": {
        "id": "86qxiuAhYHLv"
      },
      "source": [
        "## Ejercicio 14\n",
        "\n",
        "Todo punto del eje cartesiano está descrito por dos elementos: su coordenada $x$ (o «abscisa») y su coordenada $y$ (que también se llama la «ordenada»). Suponga que tenemos las coordenadas $x$ y $y$ de dos puntos: $x_1$ y $y_1$ para el primer punto, y también $x_2$ y $y_2$ para el segundo punto. Queremos encontrar la distancia entre esos dos puntos, pero también la pendiente de la recta que une esos dos puntos, y finalmente, las coordenadas del punto medio entre esos dos puntos.\n",
        "\n",
        "![Dos punto](https://i2.wp.com/www.celeberrima.com/wp-content/uploads/2018/11/Distancia-entre-dos-puntos-geometr%C3%ADa-anal%C3%ADtica-%E2%80%93-F%C3%B3rmula-y-ejemplos.jpg?resize=768%2C551&ssl=1)\n",
        "\n",
        "La distancia se obtiene con la siguiente fórmula:\n",
        "\n",
        "$$\n",
        "d = \\sqrt{(y_2-y_1)^2 + (x_2-x_1)^2}\n",
        "$$\n",
        "\n",
        "La pendiente ($m$) de la recta que une los dos puntos se halla a partir de la siguiente fórmula:\n",
        "\n",
        "$$\n",
        "m = \\frac{y_2-y_1}{x_2-x_1}\n",
        "$$\n",
        "\n",
        "Y las coordenadas del punto medio se obtienen con las siguientes fórmulas:\n",
        "$$\n",
        "x_m = \\frac{x_1+x_2}{2}\\\\\n",
        "y_m = \\frac{y_1+y_2}{2}\n",
        "$$\n",
        "\n",
        "Escriba el modelaje y el programa en Python que permita obtener todos los datos solicitados a partir de las 4 coordenadas. Solucionemos este problema a partir de varias funciones."
      ]
    },
    {
      "cell_type": "markdown",
      "metadata": {
        "id": "rAlUn7cEYHLv"
      },
      "source": [
        "## Modelaje de la función que encuentra la distancia entre dos puntos. Tenga en cuenta que hay 4 datos de entrada: x1, y1, x2 y y2.\n",
        "\n",
        "**Datos de Entrada:**\n",
        "\n",
        "Nombre | Identificador | Tipo\n",
        "---|---|---\n",
        "\n",
        "\n",
        "**Datos de Salida:**\n",
        "\n",
        "Nombre | Identificador | Tipo\n",
        "---|---|---"
      ]
    },
    {
      "cell_type": "code",
      "execution_count": null,
      "metadata": {
        "id": "DGuHSL3YYHLv"
      },
      "outputs": [],
      "source": [
        "# Para poder usar raiz cuadrada, necesitamos incluir la siguiente librería\n",
        "import math\n",
        "\n",
        "# Función que halla la distancia entre dos puntos\n",
        "def ...\n"
      ]
    },
    {
      "cell_type": "markdown",
      "metadata": {
        "id": "Gbj0bEzeYHLw"
      },
      "source": [
        "## Modelaje de la función que encuentra la pendiente de la recta que une a los dos puntos. También se reciben las coordenadas de los dos puntos.\n",
        "\n",
        "**Datos de Entrada:**\n",
        "\n",
        "Nombre | Identificador | Tipo\n",
        "---|---|---\n",
        "\n",
        "\n",
        "**Datos de Salida:**\n",
        "\n",
        "Nombre | Identificador | Tipo\n",
        "---|---|---"
      ]
    },
    {
      "cell_type": "code",
      "execution_count": null,
      "metadata": {
        "id": "DBJpNu0aYHLw"
      },
      "outputs": [],
      "source": [
        "# Función que halla la pendiente de la recta entre dos puntos\n",
        "def ...\n"
      ]
    },
    {
      "cell_type": "markdown",
      "metadata": {
        "id": "qJspOHbcYHLw"
      },
      "source": [
        "## Modelaje de la función que encuentra las coordenadas x e y del punto medio de la recta que une dos puntos\n",
        "\n",
        "**Datos de Entrada:**\n",
        "\n",
        "Nombre | Identificador | Tipo\n",
        "---|---|---\n",
        "\n",
        "\n",
        "**Datos de Salida:**\n",
        "\n",
        "Nombre | Identificador | Tipo\n",
        "---|---|---"
      ]
    },
    {
      "cell_type": "code",
      "execution_count": null,
      "metadata": {
        "id": "OuJzuXKzYHLw"
      },
      "outputs": [],
      "source": [
        "# Función que encuentra el punto medio de la recta que une dos puntos\n",
        "def ...\n"
      ]
    },
    {
      "cell_type": "markdown",
      "metadata": {
        "id": "BEinHIa6YHLw"
      },
      "source": [
        "## Modelaje del programa que soluciona el problema\n",
        "\n",
        "**Datos de Entrada:**\n",
        "\n",
        "Nombre | Identificador | Tipo\n",
        "---|---|---\n",
        "\n",
        "\n",
        "**Datos de Salida:**\n",
        "\n",
        "Nombre | Identificador | Tipo\n",
        "---|---|---"
      ]
    },
    {
      "cell_type": "code",
      "execution_count": null,
      "metadata": {
        "id": "mMH21G6-YHLx"
      },
      "outputs": [],
      "source": [
        "# Programa en Python que resuelve el Ejercicio 14\n",
        "\n",
        "# 1. Leer los datos de entrada\n",
        "\n",
        "# 2. Calcular los datos de salida, USANDO LAS FUNCIONES ANTERIORES (OJO, TODAS LAS FUNCIONES DEBEN SER USADAS)\n",
        "\n",
        "# 3. Mostrar los datos de salida\n"
      ]
    },
    {
      "cell_type": "code",
      "execution_count": null,
      "metadata": {
        "id": "c2-zVXN9YHLx"
      },
      "outputs": [],
      "source": []
    },
    {
      "cell_type": "markdown",
      "metadata": {
        "id": "6Nam59iSYHLx"
      },
      "source": [
        "---"
      ]
    },
    {
      "cell_type": "markdown",
      "metadata": {
        "id": "5El_CYIPYHLx"
      },
      "source": [
        "# Ejercicio 15\n",
        "\n",
        "Escriba una función que permita calcular la expansión lineal en una barra de acero a partir de un incremento en la temperatura. La fórmula para encontrar la expansión lineal (llamada $l$) es la siguiente:\n",
        "\n",
        "![Ejercicio 4](https://latex.codecogs.com/png.latex?%5Cdpi%7B200%7D%20%5Cbg_white%20%5Clarge%20l%20%3D%20l_o%5B1&plus;%5Calpha%20%28T_f%20-T_o%29%5D)\n",
        "\n",
        "Donde tenemos que:\n",
        "\n",
        "* $l_o$ es la longitud de la barra de acero a la temperatura inicial $T_o$\n",
        "* $\\alpha$ es el coeficiente de expansión lineal\n",
        "* $T_f$ es la temperatura final de la barra de acero"
      ]
    },
    {
      "cell_type": "markdown",
      "metadata": {
        "id": "eWdTKYQmYHLx"
      },
      "source": [
        "## Modelaje de la función\n",
        "\n",
        "**Datos de Entrada:**\n",
        "\n",
        "Nombre | Identificador | Tipo\n",
        "---|---|---\n",
        "\n",
        "\n",
        "**Datos de Salida:**\n",
        "\n",
        "Nombre | Identificador | Tipo\n",
        "---|---|---"
      ]
    },
    {
      "cell_type": "code",
      "execution_count": null,
      "metadata": {
        "id": "uHTkXoZ5YHLy"
      },
      "outputs": [],
      "source": [
        "# Definición de la función que halle la expansión lineal\n",
        "def ...\n"
      ]
    },
    {
      "cell_type": "code",
      "execution_count": null,
      "metadata": {
        "id": "RTffusLhYHLy"
      },
      "outputs": [],
      "source": [
        "# Escriba un programa que prueba la función anterior\n",
        "\n",
        "# Programa en Python que resuelve el Ejercicio 15\n",
        "\n",
        "# 1. Leer los datos de entrada\n",
        "\n",
        "# 2. Calcular los datos de salida, USANDO LA FUNCIÓN ANTERIOR\n",
        "\n",
        "# 3. Mostrar los datos de salida\n"
      ]
    },
    {
      "cell_type": "markdown",
      "metadata": {
        "id": "yM8jy9zCYHLy"
      },
      "source": [
        "---"
      ]
    },
    {
      "cell_type": "markdown",
      "metadata": {
        "id": "X-4MBOD6YHLz"
      },
      "source": [
        "## Ejercicio 16\n",
        "\n",
        "En el nuevo edificio de la universidad, cada piso tendrá el mismo número de salones y suponga que todos los salones del nuevo edificio tendrán el mismo número de pupitres, conocida como la capacidad del salón. Escriba el modelaje, una función y un programa en Python que calcule el número de salones y el número de pisos que tendrá el nuevo edificio a partir de la capacidad del salón y el número de estudiantes que van a sentarse en los pupitres de la universidad a la universidad ."
      ]
    },
    {
      "cell_type": "markdown",
      "metadata": {
        "id": "vcLZW-ZHYHLz"
      },
      "source": [
        "## Modelaje de la función\n",
        "\n",
        "**Datos de Entrada:**\n",
        "\n",
        "Nombre | Identificador | Tipo\n",
        "---|---|---\n",
        "\n",
        "\n",
        "**Datos de Salida:**\n",
        "\n",
        "Nombre | Identificador | Tipo\n",
        "---|---|---"
      ]
    },
    {
      "cell_type": "code",
      "execution_count": null,
      "metadata": {
        "id": "bOyU_q1tYHLz",
        "outputId": "8a2d0488-1fe1-4cac-9d59-1806a3f8aea8"
      },
      "outputs": [
        {
          "name": "stdout",
          "output_type": "stream",
          "text": [
            "27\n",
            "26\n"
          ]
        }
      ],
      "source": [
        "import math\n",
        "\n",
        "print(math.ceil(26.1))\n",
        "print(math.floor(26.1))"
      ]
    },
    {
      "cell_type": "code",
      "execution_count": null,
      "metadata": {
        "id": "tRIFc5QUYHL0"
      },
      "outputs": [],
      "source": [
        "# Definición de la función\n",
        "def ...\n"
      ]
    },
    {
      "cell_type": "code",
      "execution_count": null,
      "metadata": {
        "id": "zzSDYqW_YHL1"
      },
      "outputs": [],
      "source": [
        "# Escriba un programa que prueba la función anterior\n",
        "\n",
        "# Programa en Python que resuelve el Ejercicio 16\n",
        "\n",
        "# 1. Leer los datos de entrada\n",
        "\n",
        "# 2. Calcular los datos de salida, USANDO LA FUNCIÓN ANTERIOR\n",
        "\n",
        "# 3. Mostrar los datos de salida\n"
      ]
    }
  ],
  "metadata": {
    "colab": {
      "provenance": []
    },
    "kernelspec": {
      "display_name": "Python 3",
      "language": "python",
      "name": "python3"
    },
    "language_info": {
      "codemirror_mode": {
        "name": "ipython",
        "version": 3
      },
      "file_extension": ".py",
      "mimetype": "text/x-python",
      "name": "python",
      "nbconvert_exporter": "python",
      "pygments_lexer": "ipython3",
      "version": "3.13.2"
    }
  },
  "nbformat": 4,
  "nbformat_minor": 0
}
